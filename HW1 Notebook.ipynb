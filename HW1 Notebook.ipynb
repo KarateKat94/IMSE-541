{
 "cells": [
  {
   "cell_type": "code",
   "execution_count": 34,
   "metadata": {
    "collapsed": true
   },
   "outputs": [],
   "source": [
    "import pandas as pd"
   ]
  },
  {
   "cell_type": "code",
   "execution_count": 35,
   "outputs": [
    {
     "data": {
      "text/plain": "   Ex3-1   Ex3-2  Ex3-3  Ex3-5  Ex3-6  Ex3-7  Ex3-8   Ex3-14  Ex3-15\n0  16.05  50.001  953.0   96.0  127.0   94.1   13.3   8078.0    0.78\n1  16.03  50.002  955.0  102.0  125.0   93.2   14.5   1891.0    9.59\n2  16.02  49.998  948.0  104.0  131.0   90.6   15.3  13912.0    2.26\n3  16.04  50.006  951.0  108.0  124.0   91.4   15.3   3407.0    8.13\n4  16.05  50.005  957.0  126.0  129.0   88.2   14.3   6168.0    3.16",
      "text/html": "<div>\n<style scoped>\n    .dataframe tbody tr th:only-of-type {\n        vertical-align: middle;\n    }\n\n    .dataframe tbody tr th {\n        vertical-align: top;\n    }\n\n    .dataframe thead th {\n        text-align: right;\n    }\n</style>\n<table border=\"1\" class=\"dataframe\">\n  <thead>\n    <tr style=\"text-align: right;\">\n      <th></th>\n      <th>Ex3-1</th>\n      <th>Ex3-2</th>\n      <th>Ex3-3</th>\n      <th>Ex3-5</th>\n      <th>Ex3-6</th>\n      <th>Ex3-7</th>\n      <th>Ex3-8</th>\n      <th>Ex3-14</th>\n      <th>Ex3-15</th>\n    </tr>\n  </thead>\n  <tbody>\n    <tr>\n      <th>0</th>\n      <td>16.05</td>\n      <td>50.001</td>\n      <td>953.0</td>\n      <td>96.0</td>\n      <td>127.0</td>\n      <td>94.1</td>\n      <td>13.3</td>\n      <td>8078.0</td>\n      <td>0.78</td>\n    </tr>\n    <tr>\n      <th>1</th>\n      <td>16.03</td>\n      <td>50.002</td>\n      <td>955.0</td>\n      <td>102.0</td>\n      <td>125.0</td>\n      <td>93.2</td>\n      <td>14.5</td>\n      <td>1891.0</td>\n      <td>9.59</td>\n    </tr>\n    <tr>\n      <th>2</th>\n      <td>16.02</td>\n      <td>49.998</td>\n      <td>948.0</td>\n      <td>104.0</td>\n      <td>131.0</td>\n      <td>90.6</td>\n      <td>15.3</td>\n      <td>13912.0</td>\n      <td>2.26</td>\n    </tr>\n    <tr>\n      <th>3</th>\n      <td>16.04</td>\n      <td>50.006</td>\n      <td>951.0</td>\n      <td>108.0</td>\n      <td>124.0</td>\n      <td>91.4</td>\n      <td>15.3</td>\n      <td>3407.0</td>\n      <td>8.13</td>\n    </tr>\n    <tr>\n      <th>4</th>\n      <td>16.05</td>\n      <td>50.005</td>\n      <td>957.0</td>\n      <td>126.0</td>\n      <td>129.0</td>\n      <td>88.2</td>\n      <td>14.3</td>\n      <td>6168.0</td>\n      <td>3.16</td>\n    </tr>\n  </tbody>\n</table>\n</div>"
     },
     "execution_count": 35,
     "metadata": {},
     "output_type": "execute_result"
    }
   ],
   "source": [
    "data = pd.read_csv(\"ch03.csv\")\n",
    "data.head()"
   ],
   "metadata": {
    "collapsed": false
   }
  },
  {
   "cell_type": "code",
   "execution_count": 36,
   "outputs": [],
   "source": [
    "ex2 = data[\"Ex3-2\"].dropna()\n",
    "ex8 = data[\"Ex3-6\"].dropna()"
   ],
   "metadata": {
    "collapsed": false
   }
  },
  {
   "cell_type": "markdown",
   "source": [
    "## Ex 3.2"
   ],
   "metadata": {
    "collapsed": false
   }
  },
  {
   "cell_type": "code",
   "execution_count": 37,
   "outputs": [
    {
     "name": "stdout",
     "output_type": "stream",
     "text": [
      "The sample mean is: 50.001875\n",
      "The sample standard deviation is: 0.00344083\n"
     ]
    }
   ],
   "source": [
    "print(f\"The sample mean is: {ex2.mean()}\")\n",
    "\n",
    "# Degrees of freedom automatically set to 1\n",
    "print(f\"The sample standard deviation is: {round(ex2.std(), 8)}\")"
   ],
   "metadata": {
    "collapsed": false
   }
  },
  {
   "cell_type": "code",
   "execution_count": 38,
   "outputs": [
    {
     "data": {
      "text/plain": "400.015"
     },
     "execution_count": 38,
     "metadata": {},
     "output_type": "execute_result"
    }
   ],
   "source": [
    "ex2.sum()"
   ],
   "metadata": {
    "collapsed": false
   }
  },
  {
   "cell_type": "markdown",
   "source": [
    "## Ex 3.8"
   ],
   "metadata": {
    "collapsed": false
   }
  },
  {
   "cell_type": "code",
   "execution_count": 39,
   "outputs": [
    {
     "name": "stdout",
     "output_type": "stream",
     "text": [
      "The sample mean is: 129.975\n",
      "The sample standard deviation is: 8.9140842175\n"
     ]
    }
   ],
   "source": [
    "print(f\"The sample mean is: {round(ex8.mean(), 5)}\")\n",
    "\n",
    "# Degrees of freedom automatically set to 1\n",
    "print(f\"The sample standard deviation is: {round(ex8.std(), 10)}\")"
   ],
   "metadata": {
    "collapsed": false
   }
  },
  {
   "cell_type": "code",
   "execution_count": 40,
   "outputs": [
    {
     "data": {
      "text/plain": "0     127.0\n1     125.0\n2     131.0\n3     124.0\n4     129.0\n5     121.0\n6     142.0\n7     151.0\n8     160.0\n9     125.0\n10    124.0\n11    123.0\n12    120.0\n13    119.0\n14    128.0\n15    133.0\n16    137.0\n17    124.0\n18    142.0\n19    123.0\n20    121.0\n21    136.0\n22    140.0\n23    137.0\n24    125.0\n25    124.0\n26    128.0\n27    129.0\n28    130.0\n29    122.0\n30    118.0\n31    131.0\n32    125.0\n33    133.0\n34    141.0\n35    125.0\n36    140.0\n37    131.0\n38    129.0\n39    126.0\nName: Ex3-6, dtype: float64"
     },
     "execution_count": 40,
     "metadata": {},
     "output_type": "execute_result"
    }
   ],
   "source": [
    "ex8"
   ],
   "metadata": {
    "collapsed": false
   }
  },
  {
   "cell_type": "code",
   "execution_count": 41,
   "outputs": [],
   "source": [
    "import seaborn as sns"
   ],
   "metadata": {
    "collapsed": false
   }
  },
  {
   "cell_type": "code",
   "execution_count": 46,
   "outputs": [
    {
     "data": {
      "text/plain": "[Text(0.5, 0, 'Time to Failure (hrs)'),\n Text(0, 0.5, 'Count'),\n Text(0.5, 1.0, 'Exercise 3.8')]"
     },
     "execution_count": 46,
     "metadata": {},
     "output_type": "execute_result"
    },
    {
     "data": {
      "text/plain": "<Figure size 640x480 with 1 Axes>",
      "image/png": "[encoded data removed]"
     },
     "metadata": {},
     "output_type": "display_data"
    }
   ],
   "source": [
    "hist = sns.histplot(data=ex8, bins=15)\n",
    "hist.set(xlabel =\"Time to Failure (hrs)\", ylabel = \"Count\", title ='Exercise 3.8')"
   ],
   "metadata": {
    "collapsed": false
   }
  },
  {
   "cell_type": "code",
   "execution_count": 43,
   "outputs": [
    {
     "name": "stdout",
     "output_type": "stream",
     "text": [
      "25th Percentile: 124.0\n",
      "Median: 128.0\n",
      "75th Percentile: 133.75\n"
     ]
    },
    {
     "data": {
      "text/plain": "<Figure size 640x480 with 1 Axes>",
      "image/png": "[encoded data removed]"
     },
     "metadata": {},
     "output_type": "display_data"
    }
   ],
   "source": [
    "import numpy as np\n",
    "sns.boxplot(ex8)\n",
    "print(f\"25th Percentile: {np.percentile(ex8, [25])[0]}\")\n",
    "print(f\"Median: {np.percentile(ex8, [50])[0]}\")\n",
    "print(f\"75th Percentile: {np.percentile(ex8, [75])[0]}\")"
   ],
   "metadata": {
    "collapsed": false
   }
  }
 ],
 "metadata": {
  "kernelspec": {
   "display_name": "Python 3",
   "language": "python",
   "name": "python3"
  },
  "language_info": {
   "codemirror_mode": {
    "name": "ipython",
    "version": 2
   },
   "file_extension": ".py",
   "mimetype": "text/x-python",
   "name": "python",
   "nbconvert_exporter": "python",
   "pygments_lexer": "ipython2",
   "version": "2.7.6"
  }
 },
 "nbformat": 4,
 "nbformat_minor": 0
}
