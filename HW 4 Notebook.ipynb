{
 "cells": [
  {
   "cell_type": "code",
   "execution_count": 1,
   "metadata": {
    "collapsed": true
   },
   "outputs": [],
   "source": [
    "import statsmodels.api as sm\n",
    "from statsmodels.formula.api import ols\n",
    "import pandas as pd"
   ]
  },
  {
   "cell_type": "markdown",
   "source": [
    "## 13.4"
   ],
   "metadata": {
    "collapsed": false
   }
  },
  {
   "cell_type": "code",
   "execution_count": 2,
   "outputs": [
    {
     "data": {
      "text/plain": "   A  B  C  tool_life\n0 -1 -1 -1        221\n1 -1 -1 -1        311\n2  1 -1 -1        325\n3  1 -1 -1        435\n4 -1  1 -1        354",
      "text/html": "<div>\n<style scoped>\n    .dataframe tbody tr th:only-of-type {\n        vertical-align: middle;\n    }\n\n    .dataframe tbody tr th {\n        vertical-align: top;\n    }\n\n    .dataframe thead th {\n        text-align: right;\n    }\n</style>\n<table border=\"1\" class=\"dataframe\">\n  <thead>\n    <tr style=\"text-align: right;\">\n      <th></th>\n      <th>A</th>\n      <th>B</th>\n      <th>C</th>\n      <th>tool_life</th>\n    </tr>\n  </thead>\n  <tbody>\n    <tr>\n      <th>0</th>\n      <td>-1</td>\n      <td>-1</td>\n      <td>-1</td>\n      <td>221</td>\n    </tr>\n    <tr>\n      <th>1</th>\n      <td>-1</td>\n      <td>-1</td>\n      <td>-1</td>\n      <td>311</td>\n    </tr>\n    <tr>\n      <th>2</th>\n      <td>1</td>\n      <td>-1</td>\n      <td>-1</td>\n      <td>325</td>\n    </tr>\n    <tr>\n      <th>3</th>\n      <td>1</td>\n      <td>-1</td>\n      <td>-1</td>\n      <td>435</td>\n    </tr>\n    <tr>\n      <th>4</th>\n      <td>-1</td>\n      <td>1</td>\n      <td>-1</td>\n      <td>354</td>\n    </tr>\n  </tbody>\n</table>\n</div>"
     },
     "execution_count": 2,
     "metadata": {},
     "output_type": "execute_result"
    }
   ],
   "source": [
    "tool_life = pd.read_excel(\"/Users/brianblood/Downloads/HW4.xlsx\", sheet_name=\"13.4\")\n",
    "tool_life.head()"
   ],
   "metadata": {
    "collapsed": false
   }
  },
  {
   "cell_type": "code",
   "execution_count": 4,
   "outputs": [
    {
     "data": {
      "text/plain": "            sum_sq   df          F    PR(>F)\nA          1332.25  1.0   0.541015  0.483017\nB         28392.25  1.0  11.529848  0.009422\nC         20592.25  1.0   8.362335  0.020144\nA:B         506.25  1.0   0.205584  0.662297\nA:C       56882.25  1.0  23.099391  0.001345\nB:C        2352.25  1.0   0.955228  0.357017\nA:B:C      4830.25  1.0   1.961523  0.198923\nResidual  19700.00  8.0        NaN       NaN",
      "text/html": "<div>\n<style scoped>\n    .dataframe tbody tr th:only-of-type {\n        vertical-align: middle;\n    }\n\n    .dataframe tbody tr th {\n        vertical-align: top;\n    }\n\n    .dataframe thead th {\n        text-align: right;\n    }\n</style>\n<table border=\"1\" class=\"dataframe\">\n  <thead>\n    <tr style=\"text-align: right;\">\n      <th></th>\n      <th>sum_sq</th>\n      <th>df</th>\n      <th>F</th>\n      <th>PR(&gt;F)</th>\n    </tr>\n  </thead>\n  <tbody>\n    <tr>\n      <th>A</th>\n      <td>1332.25</td>\n      <td>1.0</td>\n      <td>0.541015</td>\n      <td>0.483017</td>\n    </tr>\n    <tr>\n      <th>B</th>\n      <td>28392.25</td>\n      <td>1.0</td>\n      <td>11.529848</td>\n      <td>0.009422</td>\n    </tr>\n    <tr>\n      <th>C</th>\n      <td>20592.25</td>\n      <td>1.0</td>\n      <td>8.362335</td>\n      <td>0.020144</td>\n    </tr>\n    <tr>\n      <th>A:B</th>\n      <td>506.25</td>\n      <td>1.0</td>\n      <td>0.205584</td>\n      <td>0.662297</td>\n    </tr>\n    <tr>\n      <th>A:C</th>\n      <td>56882.25</td>\n      <td>1.0</td>\n      <td>23.099391</td>\n      <td>0.001345</td>\n    </tr>\n    <tr>\n      <th>B:C</th>\n      <td>2352.25</td>\n      <td>1.0</td>\n      <td>0.955228</td>\n      <td>0.357017</td>\n    </tr>\n    <tr>\n      <th>A:B:C</th>\n      <td>4830.25</td>\n      <td>1.0</td>\n      <td>1.961523</td>\n      <td>0.198923</td>\n    </tr>\n    <tr>\n      <th>Residual</th>\n      <td>19700.00</td>\n      <td>8.0</td>\n      <td>NaN</td>\n      <td>NaN</td>\n    </tr>\n  </tbody>\n</table>\n</div>"
     },
     "execution_count": 4,
     "metadata": {},
     "output_type": "execute_result"
    }
   ],
   "source": [
    "tool_life_model = ols(\"tool_life ~ A + B + C + A:B + A:C + B:C + A:B:C\", data=tool_life).fit()\n",
    "tool_life_summary = sm.stats.anova_lm(tool_life_model, typ=2)\n",
    "tool_life_summary"
   ],
   "metadata": {
    "collapsed": false
   }
  },
  {
   "cell_type": "markdown",
   "source": [],
   "metadata": {
    "collapsed": false
   }
  },
  {
   "cell_type": "code",
   "execution_count": 5,
   "outputs": [
    {
     "name": "stdout",
     "output_type": "stream",
     "text": [
      "                            OLS Regression Results                            \n",
      "==============================================================================\n",
      "Dep. Variable:              tool_life   R-squared:                       0.854\n",
      "Model:                            OLS   Adj. R-squared:                  0.726\n",
      "Method:                 Least Squares   F-statistic:                     6.665\n",
      "Date:                Tue, 10 Oct 2023   Prob (F-statistic):            0.00790\n",
      "Time:                        21:16:30   Log-Likelihood:                -79.629\n",
      "No. Observations:                  16   AIC:                             175.3\n",
      "Df Residuals:                       8   BIC:                             181.4\n",
      "Df Model:                           7                                         \n",
      "Covariance Type:            nonrobust                                         \n",
      "==============================================================================\n",
      "                 coef    std err          t      P>|t|      [0.025      0.975]\n",
      "------------------------------------------------------------------------------\n",
      "Intercept    413.1250     12.406     33.301      0.000     384.517     441.733\n",
      "A              9.1250     12.406      0.736      0.483     -19.483      37.733\n",
      "B             42.1250     12.406      3.396      0.009      13.517      70.733\n",
      "C             35.8750     12.406      2.892      0.020       7.267      64.483\n",
      "A:B           -5.6250     12.406     -0.453      0.662     -34.233      22.983\n",
      "A:C          -59.6250     12.406     -4.806      0.001     -88.233     -31.017\n",
      "B:C          -12.1250     12.406     -0.977      0.357     -40.733      16.483\n",
      "A:B:C        -17.3750     12.406     -1.401      0.199     -45.983      11.233\n",
      "==============================================================================\n",
      "Omnibus:                        1.124   Durbin-Watson:                   3.104\n",
      "Prob(Omnibus):                  0.570   Jarque-Bera (JB):                0.754\n",
      "Skew:                           0.000   Prob(JB):                        0.686\n",
      "Kurtosis:                       1.937   Cond. No.                         1.00\n",
      "==============================================================================\n",
      "\n",
      "Notes:\n",
      "[1] Standard Errors assume that the covariance matrix of the errors is correctly specified.\n"
     ]
    },
    {
     "name": "stderr",
     "output_type": "stream",
     "text": [
      "/Users/brianblood/opt/anaconda3/envs/hanyang-ml/lib/python3.8/site-packages/scipy/stats/_stats_py.py:1736: UserWarning: kurtosistest only valid for n>=20 ... continuing anyway, n=16\n",
      "  warnings.warn(\"kurtosistest only valid for n>=20 ... continuing \"\n"
     ]
    }
   ],
   "source": [
    "print(tool_life_model.summary())"
   ],
   "metadata": {
    "collapsed": false
   }
  },
  {
   "cell_type": "markdown",
   "source": [
    "## 13.6"
   ],
   "metadata": {
    "collapsed": false
   }
  },
  {
   "cell_type": "code",
   "execution_count": 6,
   "outputs": [
    {
     "data": {
      "text/plain": "   A  B  C  D  taste\n0 -1 -1 -1 -1    188\n1 -1 -1 -1 -1    195\n2  1 -1 -1 -1    172\n3  1 -1 -1 -1    180\n4 -1  1 -1 -1    179",
      "text/html": "<div>\n<style scoped>\n    .dataframe tbody tr th:only-of-type {\n        vertical-align: middle;\n    }\n\n    .dataframe tbody tr th {\n        vertical-align: top;\n    }\n\n    .dataframe thead th {\n        text-align: right;\n    }\n</style>\n<table border=\"1\" class=\"dataframe\">\n  <thead>\n    <tr style=\"text-align: right;\">\n      <th></th>\n      <th>A</th>\n      <th>B</th>\n      <th>C</th>\n      <th>D</th>\n      <th>taste</th>\n    </tr>\n  </thead>\n  <tbody>\n    <tr>\n      <th>0</th>\n      <td>-1</td>\n      <td>-1</td>\n      <td>-1</td>\n      <td>-1</td>\n      <td>188</td>\n    </tr>\n    <tr>\n      <th>1</th>\n      <td>-1</td>\n      <td>-1</td>\n      <td>-1</td>\n      <td>-1</td>\n      <td>195</td>\n    </tr>\n    <tr>\n      <th>2</th>\n      <td>1</td>\n      <td>-1</td>\n      <td>-1</td>\n      <td>-1</td>\n      <td>172</td>\n    </tr>\n    <tr>\n      <th>3</th>\n      <td>1</td>\n      <td>-1</td>\n      <td>-1</td>\n      <td>-1</td>\n      <td>180</td>\n    </tr>\n    <tr>\n      <th>4</th>\n      <td>-1</td>\n      <td>1</td>\n      <td>-1</td>\n      <td>-1</td>\n      <td>179</td>\n    </tr>\n  </tbody>\n</table>\n</div>"
     },
     "execution_count": 6,
     "metadata": {},
     "output_type": "execute_result"
    }
   ],
   "source": [
    "taste = pd.read_excel(\"/Users/brianblood/Downloads/HW4.xlsx\", sheet_name=\"13.6\")\n",
    "taste.head()"
   ],
   "metadata": {
    "collapsed": false
   }
  },
  {
   "cell_type": "code",
   "execution_count": 9,
   "outputs": [
    {
     "data": {
      "text/plain": "             sum_sq    df          F    PR(>F)\nA         657.03125   1.0  22.729730  0.000210\nB          13.78125   1.0   0.476757  0.499790\nC          57.78125   1.0   1.998919  0.176574\nD         124.03125   1.0   4.290811  0.054847\nA:B       132.03125   1.0   4.567568  0.048369\nA:C         3.78125   1.0   0.130811  0.722325\nA:D        38.28125   1.0   1.324324  0.266726\nB:C         2.53125   1.0   0.087568  0.771099\nB:D         0.28125   1.0   0.009730  0.922650\nC:D        22.78125   1.0   0.788108  0.387824\nA:B:C     215.28125   1.0   7.447568  0.014861\nA:B:D     175.78125   1.0   6.081081  0.025348\nA:C:D       7.03125   1.0   0.243243  0.628574\nB:C:D       7.03125   1.0   0.243243  0.628574\nA:B:C:D    47.53125   1.0   1.644324  0.218001\nResidual  462.50000  16.0        NaN       NaN",
      "text/html": "<div>\n<style scoped>\n    .dataframe tbody tr th:only-of-type {\n        vertical-align: middle;\n    }\n\n    .dataframe tbody tr th {\n        vertical-align: top;\n    }\n\n    .dataframe thead th {\n        text-align: right;\n    }\n</style>\n<table border=\"1\" class=\"dataframe\">\n  <thead>\n    <tr style=\"text-align: right;\">\n      <th></th>\n      <th>sum_sq</th>\n      <th>df</th>\n      <th>F</th>\n      <th>PR(&gt;F)</th>\n    </tr>\n  </thead>\n  <tbody>\n    <tr>\n      <th>A</th>\n      <td>657.03125</td>\n      <td>1.0</td>\n      <td>22.729730</td>\n      <td>0.000210</td>\n    </tr>\n    <tr>\n      <th>B</th>\n      <td>13.78125</td>\n      <td>1.0</td>\n      <td>0.476757</td>\n      <td>0.499790</td>\n    </tr>\n    <tr>\n      <th>C</th>\n      <td>57.78125</td>\n      <td>1.0</td>\n      <td>1.998919</td>\n      <td>0.176574</td>\n    </tr>\n    <tr>\n      <th>D</th>\n      <td>124.03125</td>\n      <td>1.0</td>\n      <td>4.290811</td>\n      <td>0.054847</td>\n    </tr>\n    <tr>\n      <th>A:B</th>\n      <td>132.03125</td>\n      <td>1.0</td>\n      <td>4.567568</td>\n      <td>0.048369</td>\n    </tr>\n    <tr>\n      <th>A:C</th>\n      <td>3.78125</td>\n      <td>1.0</td>\n      <td>0.130811</td>\n      <td>0.722325</td>\n    </tr>\n    <tr>\n      <th>A:D</th>\n      <td>38.28125</td>\n      <td>1.0</td>\n      <td>1.324324</td>\n      <td>0.266726</td>\n    </tr>\n    <tr>\n      <th>B:C</th>\n      <td>2.53125</td>\n      <td>1.0</td>\n      <td>0.087568</td>\n      <td>0.771099</td>\n    </tr>\n    <tr>\n      <th>B:D</th>\n      <td>0.28125</td>\n      <td>1.0</td>\n      <td>0.009730</td>\n      <td>0.922650</td>\n    </tr>\n    <tr>\n      <th>C:D</th>\n      <td>22.78125</td>\n      <td>1.0</td>\n      <td>0.788108</td>\n      <td>0.387824</td>\n    </tr>\n    <tr>\n      <th>A:B:C</th>\n      <td>215.28125</td>\n      <td>1.0</td>\n      <td>7.447568</td>\n      <td>0.014861</td>\n    </tr>\n    <tr>\n      <th>A:B:D</th>\n      <td>175.78125</td>\n      <td>1.0</td>\n      <td>6.081081</td>\n      <td>0.025348</td>\n    </tr>\n    <tr>\n      <th>A:C:D</th>\n      <td>7.03125</td>\n      <td>1.0</td>\n      <td>0.243243</td>\n      <td>0.628574</td>\n    </tr>\n    <tr>\n      <th>B:C:D</th>\n      <td>7.03125</td>\n      <td>1.0</td>\n      <td>0.243243</td>\n      <td>0.628574</td>\n    </tr>\n    <tr>\n      <th>A:B:C:D</th>\n      <td>47.53125</td>\n      <td>1.0</td>\n      <td>1.644324</td>\n      <td>0.218001</td>\n    </tr>\n    <tr>\n      <th>Residual</th>\n      <td>462.50000</td>\n      <td>16.0</td>\n      <td>NaN</td>\n      <td>NaN</td>\n    </tr>\n  </tbody>\n</table>\n</div>"
     },
     "execution_count": 9,
     "metadata": {},
     "output_type": "execute_result"
    }
   ],
   "source": [
    "taste_model = ols(\"taste ~ A + B + C + D + A:B + A:C + A:D + B:C + B:D + C:D + A:B:C + A:B:D + A:C:D + B:C:D + A:B:C:D\", data=taste).fit()\n",
    "taste_summary = sm.stats.anova_lm(taste_model, typ=2)\n",
    "taste_summary"
   ],
   "metadata": {
    "collapsed": false
   }
  },
  {
   "cell_type": "code",
   "execution_count": 10,
   "outputs": [
    {
     "name": "stdout",
     "output_type": "stream",
     "text": [
      "                            OLS Regression Results                            \n",
      "==============================================================================\n",
      "Dep. Variable:                  taste   R-squared:                       0.765\n",
      "Model:                            OLS   Adj. R-squared:                  0.545\n",
      "Method:                 Least Squares   F-statistic:                     3.471\n",
      "Date:                Tue, 10 Oct 2023   Prob (F-statistic):            0.00917\n",
      "Time:                        21:25:41   Log-Likelihood:                -88.141\n",
      "No. Observations:                  32   AIC:                             208.3\n",
      "Df Residuals:                      16   BIC:                             231.7\n",
      "Df Model:                          15                                         \n",
      "Covariance Type:            nonrobust                                         \n",
      "==============================================================================\n",
      "                 coef    std err          t      P>|t|      [0.025      0.975]\n",
      "------------------------------------------------------------------------------\n",
      "Intercept    182.7813      0.950    192.314      0.000     180.766     184.796\n",
      "A             -4.5312      0.950     -4.768      0.000      -6.546      -2.516\n",
      "B             -0.6563      0.950     -0.690      0.500      -2.671       1.359\n",
      "C             -1.3438      0.950     -1.414      0.177      -3.359       0.671\n",
      "D              1.9687      0.950      2.071      0.055      -0.046       3.984\n",
      "A:B            2.0313      0.950      2.137      0.048       0.016       4.046\n",
      "A:C            0.3438      0.950      0.362      0.722      -1.671       2.359\n",
      "A:D           -1.0938      0.950     -1.151      0.267      -3.109       0.921\n",
      "B:C           -0.2812      0.950     -0.296      0.771      -2.296       1.734\n",
      "B:D           -0.0937      0.950     -0.099      0.923      -2.109       1.921\n",
      "C:D            0.8437      0.950      0.888      0.388      -1.171       2.859\n",
      "A:B:C         -2.5938      0.950     -2.729      0.015      -4.609      -0.579\n",
      "A:B:D          2.3438      0.950      2.466      0.025       0.329       4.359\n",
      "A:C:D         -0.4688      0.950     -0.493      0.629      -2.484       1.546\n",
      "B:C:D         -0.4687      0.950     -0.493      0.629      -2.484       1.546\n",
      "A:B:C:D        1.2187      0.950      1.282      0.218      -0.796       3.234\n",
      "==============================================================================\n",
      "Omnibus:                       30.787   Durbin-Watson:                   3.051\n",
      "Prob(Omnibus):                  0.000   Jarque-Bera (JB):                3.550\n",
      "Skew:                           0.000   Prob(JB):                        0.170\n",
      "Kurtosis:                       1.368   Cond. No.                         1.00\n",
      "==============================================================================\n",
      "\n",
      "Notes:\n",
      "[1] Standard Errors assume that the covariance matrix of the errors is correctly specified.\n"
     ]
    }
   ],
   "source": [
    "print(taste_model.summary())"
   ],
   "metadata": {
    "collapsed": false
   }
  },
  {
   "cell_type": "code",
   "execution_count": null,
   "outputs": [],
   "source": [],
   "metadata": {
    "collapsed": false
   }
  }
 ],
 "metadata": {
  "kernelspec": {
   "display_name": "Python 3",
   "language": "python",
   "name": "python3"
  },
  "language_info": {
   "codemirror_mode": {
    "name": "ipython",
    "version": 2
   },
   "file_extension": ".py",
   "mimetype": "text/x-python",
   "name": "python",
   "nbconvert_exporter": "python",
   "pygments_lexer": "ipython2",
   "version": "2.7.6"
  }
 },
 "nbformat": 4,
 "nbformat_minor": 0
}
