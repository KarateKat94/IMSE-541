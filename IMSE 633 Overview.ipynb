{
 "cells": [
  {
   "metadata": {
    "collapsed": true,
    "trusted": false
   },
   "cell_type": "code",
   "source": [
    "import pulp as pl\n",
    "import pandas as pd\n",
    "import itertools as it"
   ],
   "execution_count": 1,
   "outputs": []
  },
  {
   "metadata": {
    "trusted": false
   },
   "cell_type": "code",
   "source": [
    "#imports the data\n",
    "product_demand = pd.read_excel(\"/Users/brianblood/Library/CloudStorage/OneDrive-KansasStateUniversity/School/Senior Year/IMSE 633/MSE 633 Warehouse Optimization Data.xlsx\",\n",
    "                             sheet_name='demand',\n",
    "                             index_col='store')\n",
    "\n",
    "warehouse_capacity = pd.read_excel(\"/Users/brianblood/Library/CloudStorage/OneDrive-KansasStateUniversity/School/Senior Year/IMSE 633/MSE 633 Warehouse Optimization Data.xlsx\",\n",
    "                           sheet_name='capacity',\n",
    "                           index_col='warehouse')\n",
    "\n",
    "build_cost = pd.read_excel(\"/Users/brianblood/Library/CloudStorage/OneDrive-KansasStateUniversity/School/Senior Year/IMSE 633/MSE 633 Warehouse Optimization Data.xlsx\",\n",
    "                           sheet_name='build_cost',\n",
    "                           index_col='warehouse')\n",
    "\n",
    "ship_cost = pd.read_excel(\"/Users/brianblood/Library/CloudStorage/OneDrive-KansasStateUniversity/School/Senior Year/IMSE 633/MSE 633 Warehouse Optimization Data.xlsx\",\n",
    "                            sheet_name='cost',\n",
    "                            header=[0,1],\n",
    "                            index_col=0)"
   ],
   "execution_count": 2,
   "outputs": []
  },
  {
   "metadata": {
    "trusted": false
   },
   "cell_type": "code",
   "source": [
    "df_products_stores = ship_cost.columns.tolist()\n",
    "df_products = ['canned', 'meat']\n",
    "df_stores = ship_cost['canned'].columns.tolist()\n",
    "df_warehouses = ship_cost.index.tolist()"
   ],
   "execution_count": 3,
   "outputs": []
  },
  {
   "metadata": {
    "trusted": false
   },
   "cell_type": "code",
   "source": [
    "class ACME:\n",
    "\n",
    "    def __init__(self,\n",
    "                 stores,\n",
    "                 warehouses,\n",
    "                 products,\n",
    "                 demand,\n",
    "                 cost,\n",
    "                 build,\n",
    "                 capacity,\n",
    "                 extra_constraints = False,\n",
    "                 solver=pl.CPLEX_PY,\n",
    "                 name=\"ACME Warehousing\",\n",
    "                 ):\n",
    "\n",
    "        #defines all variables and constants used in the problem\n",
    "        self.solver = solver\n",
    "        self.stores = stores\n",
    "        self.warehouses = warehouses\n",
    "        self.products = products\n",
    "        self.demand = demand\n",
    "        self.cost = cost\n",
    "        self.build_cost = build\n",
    "        self.capacity = capacity\n",
    "        self.extra_constraints = extra_constraints\n",
    "\n",
    "        #defines LP problem\n",
    "        self.prob = pl.LpProblem(name=name, sense=pl.LpMinimize)\n",
    "\n",
    "        #creates decision variables\n",
    "\n",
    "        #product variables\n",
    "        self.product_vars = pl.LpVariable.dicts(\"products\",\n",
    "                                             ((w,s,p) for w, s, p in it.product(self.warehouses, self.stores, self.products)),\n",
    "                                             cat=pl.LpContinuous,\n",
    "                                             lowBound=0)\n",
    "        #warehouse binary vars\n",
    "        self.warehouse_vars = pl.LpVariable.dicts(\"warehouse_status\",\n",
    "                                             (i for i in self.warehouses),\n",
    "                                             cat=pl.LpBinary)\n",
    "\n",
    "    def objective(self):\n",
    "        #objective function\n",
    "        self.prob += (pl.lpSum((self.product_vars[w, s, p] * self.cost.loc[w, (p, s)] * 60)\n",
    "                              for w, s, p in it.product(self.warehouses, self.stores, self.products))\n",
    "                            + pl.lpSum(self.warehouse_vars[w] * self.build_cost.loc[w, 'build_cost']\n",
    "                               for w in self.warehouses))\n",
    "    def constraints(self):\n",
    "\n",
    "        for p in self.products:\n",
    "            for s in self.stores:\n",
    "                #demand\n",
    "                self.prob += (pl.lpSum(self.product_vars[w, s, p]\n",
    "                                      for w in self.warehouses) >= self.demand.loc[s, p])\n",
    "            for w in self.warehouses:\n",
    "                #whether sites are open or not\n",
    "                self.prob += (pl.lpSum(self.product_vars[w,s,p] for s in self.stores) <= self.capacity.loc[w, p] * self.warehouse_vars[w])\n",
    "\n",
    "\n",
    "        if self.extra_constraints:\n",
    "            self.prob += self.warehouse_vars['W4'] >= self.warehouse_vars['W2']\n",
    "            self.prob += self.warehouse_vars['W4'] + self.warehouse_vars['W1'] <= 1\n",
    "            self.prob += self.warehouse_vars['W2'] + self.warehouse_vars['W3'] >= self.warehouse_vars['W1']\n",
    "\n",
    "    def build(self):\n",
    "        #build the model\n",
    "        self.objective()\n",
    "        self.constraints()\n",
    "\n",
    "    def solve(self):\n",
    "        #solve the model\n",
    "        self.prob.solve(self.solver)\n",
    "        return self.prob.objective.value()"
   ],
   "execution_count": 4,
   "outputs": []
  },
  {
   "metadata": {
    "trusted": false
   },
   "cell_type": "code",
   "source": [
    "#building the optimal model\n",
    "path_to_cplex = \"/Applications/CPLEX_Studio201/cplex/bin/x86-64_osx/cplex\"\n",
    "baseline_model = ACME(stores=df_stores,\n",
    "                      warehouses=df_warehouses,\n",
    "                      products=df_products,\n",
    "                      demand=product_demand,\n",
    "                      cost=ship_cost,\n",
    "                      build=build_cost,\n",
    "                      capacity=warehouse_capacity,\n",
    "                      solver=pl.CPLEX_CMD(path=path_to_cplex, mip=True))"
   ],
   "execution_count": 5,
   "outputs": [
    {
     "name": "stderr",
     "output_type": "stream",
     "text": [
      "/Users/brianblood/opt/anaconda3/envs/hanyang-ml/lib/python3.8/site-packages/pulp/pulp.py:1352: UserWarning: Spaces are not permitted in the name. Converted to '_'\n",
      "  warnings.warn(\"Spaces are not permitted in the name. Converted to '_'\")\n"
     ]
    }
   ]
  },
  {
   "metadata": {
    "trusted": false
   },
   "cell_type": "code",
   "source": [
    "#solve the model and print objective value\n",
    "baseline_model.build()\n",
    "baseline_objective = baseline_model.solve()\n",
    "print(baseline_objective)"
   ],
   "execution_count": 6,
   "outputs": [
    {
     "name": "stdout",
     "output_type": "stream",
     "text": [
      "\n",
      "Welcome to IBM(R) ILOG(R) CPLEX(R) Interactive Optimizer 20.1.0.0\n",
      "  with Simplex, Mixed Integer & Barrier Optimizers\n",
      "5725-A06 5725-A29 5724-Y48 5724-Y49 5724-Y54 5724-Y55 5655-Y21\n",
      "Copyright IBM Corp. 1988, 2020.  All Rights Reserved.\n",
      "\n",
      "Type 'help' for a list of available commands.\n",
      "Type 'help' followed by a command name for more\n",
      "information on commands.\n",
      "\n",
      "CPLEX> Problem '/var/folders/7x/vvlz820d5l9d2yr0jb1jggmc0000gn/T/145aba2371264babb4f0f031f9469601-pulp.lp' read.\n",
      "Read time = 0.01 sec. (0.00 ticks)\n",
      "CPLEX> Version identifier: 20.1.0.0 | 2020-11-10 | 9bedb6d68\n",
      "Tried aggregator 1 time.\n",
      "Reduced MIP has 22 rows, 60 columns, and 120 nonzeros.\n",
      "Reduced MIP has 4 binaries, 0 generals, 0 SOSs, and 0 indicators.\n",
      "Presolve time = 0.01 sec. (0.05 ticks)\n",
      "Found incumbent of value 2.2449480e+07 after 0.04 sec. (0.16 ticks)\n",
      "Probing time = 0.00 sec. (0.00 ticks)\n",
      "Tried aggregator 1 time.\n",
      "Detecting symmetries...\n",
      "Reduced MIP has 22 rows, 60 columns, and 120 nonzeros.\n",
      "Reduced MIP has 4 binaries, 0 generals, 0 SOSs, and 0 indicators.\n",
      "Presolve time = 0.00 sec. (0.06 ticks)\n",
      "Probing time = 0.00 sec. (0.00 ticks)\n",
      "MIP emphasis: balance optimality and feasibility.\n",
      "MIP search method: dynamic search.\n",
      "Parallel mode: deterministic, using up to 12 threads.\n",
      "Root relaxation solution time = 0.01 sec. (0.05 ticks)\n",
      "\n",
      "        Nodes                                         Cuts/\n",
      "   Node  Left     Objective  IInf  Best Integer    Best Bound    ItCnt     Gap\n",
      "\n",
      "*     0+    0                       2.24495e+07        0.0000           100.00%\n",
      "      0     0   1.19965e+07     2   2.24495e+07   1.19965e+07       26   46.56%\n",
      "*     0+    0                       1.27255e+07   1.19965e+07             5.73%\n",
      "*     0+    0                       1.27106e+07   1.19965e+07             5.62%\n",
      "      0     0   1.23182e+07     3   1.27106e+07      Cuts: 10       40    3.09%\n",
      "      0     0   1.26359e+07     3   1.27106e+07      Cuts: 17       61    0.59%\n",
      "      0     0   1.26464e+07     2   1.27106e+07      Cuts: 10       67    0.51%\n",
      "      0     0        cutoff         1.27106e+07                     68    0.00%\n",
      "Elapsed time = 0.07 sec. (1.12 ticks, tree = 0.01 MB, solutions = 3)\n",
      "\n",
      "Implied bound cuts applied:  13\n",
      "Flow cuts applied:  8\n",
      "Mixed integer rounding cuts applied:  3\n",
      "Lift and project cuts applied:  1\n",
      "Gomory fractional cuts applied:  1\n",
      "\n",
      "Root node processing (before b&c):\n",
      "  Real time             =    0.07 sec. (1.12 ticks)\n",
      "Parallel b&c, 12 threads:\n",
      "  Real time             =    0.00 sec. (0.00 ticks)\n",
      "  Sync time (average)   =    0.00 sec.\n",
      "  Wait time (average)   =    0.00 sec.\n",
      "                          ------------\n",
      "Total (root+branch&cut) =    0.07 sec. (1.12 ticks)\n",
      "\n",
      "Solution pool: 3 solutions saved.\n",
      "\n",
      "MIP - Integer optimal solution:  Objective =  1.2710596000e+07\n",
      "Solution time =    0.08 sec.  Iterations = 68  Nodes = 0\n",
      "Deterministic time = 1.12 ticks  (14.36 ticks/sec)\n",
      "\n",
      "CPLEX> MILP problem relaxed to LP with fixed integer variables using\n",
      "incumbent solution.\n",
      "CPLEX> Version identifier: 20.1.0.0 | 2020-11-10 | 9bedb6d68\n",
      "Tried aggregator 1 time.\n",
      "LP Presolve eliminated 4 rows and 32 columns.\n",
      "Reduced LP has 18 rows, 28 columns, and 56 nonzeros.\n",
      "Presolve time = 0.00 sec. (0.03 ticks)\n",
      "\n",
      "Iteration log . . .\n",
      "Iteration:     1   Dual objective     =      10171600.000000\n",
      "\n",
      "Dual simplex - Optimal:  Objective =  1.2710596000e+07\n",
      "Solution time =    0.00 sec.  Iterations = 15 (0)\n",
      "Deterministic time = 0.06 ticks  (60.93 ticks/sec)\n",
      "\n",
      "CPLEX> Solution written to file '/var/folders/7x/vvlz820d5l9d2yr0jb1jggmc0000gn/T/145aba2371264babb4f0f031f9469601-pulp.sol'.\n",
      "CPLEX> 12710596.0\n"
     ]
    }
   ]
  },
  {
   "cell_type": "code",
   "execution_count": 7,
   "outputs": [],
   "source": [
    "# change build cost to reflect change in Excel sheet\n",
    "build_cost_2 = build_cost\n",
    "build_cost_2.loc['W1', 'build_cost'] = 4900000\n",
    "\n",
    "# change product demand to reflect change in Excel sheet\n",
    "product_demand_2 = product_demand\n",
    "product_demand_2.loc['S1', 'canned'] = 28000\n",
    "product_demand_2.loc['S1', 'meat'] = 18000"
   ],
   "metadata": {
    "collapsed": false
   }
  },
  {
   "cell_type": "code",
   "execution_count": 8,
   "outputs": [],
   "source": [
    "warehouse_model = ACME(stores=df_stores,\n",
    "                      warehouses=df_warehouses,\n",
    "                      products=df_products,\n",
    "                      demand=product_demand_2,\n",
    "                      cost=ship_cost,\n",
    "                      build=build_cost_2,\n",
    "                      capacity=warehouse_capacity,\n",
    "                      extra_constraints=True,\n",
    "                      solver=pl.CPLEX_CMD(path=path_to_cplex, mip=True))"
   ],
   "metadata": {
    "collapsed": false
   }
  },
  {
   "cell_type": "code",
   "execution_count": 9,
   "outputs": [
    {
     "name": "stdout",
     "output_type": "stream",
     "text": [
      "\n",
      "Welcome to IBM(R) ILOG(R) CPLEX(R) Interactive Optimizer 20.1.0.0\n",
      "  with Simplex, Mixed Integer & Barrier Optimizers\n",
      "5725-A06 5725-A29 5724-Y48 5724-Y49 5724-Y54 5724-Y55 5655-Y21\n",
      "Copyright IBM Corp. 1988, 2020.  All Rights Reserved.\n",
      "\n",
      "Type 'help' for a list of available commands.\n",
      "Type 'help' followed by a command name for more\n",
      "information on commands.\n",
      "\n",
      "CPLEX> Problem '/var/folders/7x/vvlz820d5l9d2yr0jb1jggmc0000gn/T/4195de11941e43bc967e6abd6d51957a-pulp.lp' read.\n",
      "Read time = 0.00 sec. (0.00 ticks)\n",
      "CPLEX> Version identifier: 20.1.0.0 | 2020-11-10 | 9bedb6d68\n",
      "Tried aggregator 1 time.\n",
      "Reduced MIP has 25 rows, 60 columns, and 127 nonzeros.\n",
      "Reduced MIP has 4 binaries, 0 generals, 0 SOSs, and 0 indicators.\n",
      "Presolve time = 0.00 sec. (0.05 ticks)\n",
      "Probing changed sense of 1 constraints.\n",
      "Probing time = 0.00 sec. (0.02 ticks)\n",
      "Tried aggregator 2 times.\n",
      "Detecting symmetries...\n",
      "MIP Presolve modified 1 coefficients.\n",
      "Aggregator did 1 substitutions.\n",
      "Reduced MIP has 24 rows, 59 columns, and 124 nonzeros.\n",
      "Reduced MIP has 3 binaries, 0 generals, 0 SOSs, and 0 indicators.\n",
      "Presolve time = 0.00 sec. (0.10 ticks)\n",
      "Probing time = 0.00 sec. (0.01 ticks)\n",
      "Clique table members: 2.\n",
      "MIP emphasis: balance optimality and feasibility.\n",
      "MIP search method: dynamic search.\n",
      "Parallel mode: deterministic, using up to 12 threads.\n",
      "Root relaxation solution time = 0.00 sec. (0.07 ticks)\n",
      "\n",
      "        Nodes                                         Cuts/\n",
      "   Node  Left     Objective  IInf  Best Integer    Best Bound    ItCnt     Gap\n",
      "\n",
      "*     0+    0                       1.32782e+07  4700000.0000            64.60%\n",
      "      0     0   1.32444e+07     3   1.32782e+07   1.32444e+07       32    0.25%\n",
      "      0     0        cutoff         1.32782e+07                     41    0.00%\n",
      "Elapsed time = 0.04 sec. (0.46 ticks, tree = 0.01 MB, solutions = 1)\n",
      "\n",
      "Root node processing (before b&c):\n",
      "  Real time             =    0.04 sec. (0.46 ticks)\n",
      "Parallel b&c, 12 threads:\n",
      "  Real time             =    0.00 sec. (0.00 ticks)\n",
      "  Sync time (average)   =    0.00 sec.\n",
      "  Wait time (average)   =    0.00 sec.\n",
      "                          ------------\n",
      "Total (root+branch&cut) =    0.04 sec. (0.46 ticks)\n",
      "\n",
      "Solution pool: 1 solution saved.\n",
      "\n",
      "MIP - Integer optimal solution:  Objective =  1.3278156000e+07\n",
      "Solution time =    0.04 sec.  Iterations = 41  Nodes = 0\n",
      "Deterministic time = 0.46 ticks  (11.17 ticks/sec)\n",
      "\n",
      "CPLEX> MILP problem relaxed to LP with fixed integer variables using\n",
      "incumbent solution.\n",
      "CPLEX> Version identifier: 20.1.0.0 | 2020-11-10 | 9bedb6d68\n",
      "Tried aggregator 1 time.\n",
      "LP Presolve eliminated 7 rows and 32 columns.\n",
      "Reduced LP has 18 rows, 28 columns, and 56 nonzeros.\n",
      "Presolve time = 0.00 sec. (0.03 ticks)\n",
      "\n",
      "Iteration log . . .\n",
      "Iteration:     1   Dual objective     =      10418400.000000\n",
      "\n",
      "Dual simplex - Optimal:  Objective =  1.3278156000e+07\n",
      "Solution time =    0.00 sec.  Iterations = 19 (0)\n",
      "Deterministic time = 0.07 ticks  (68.42 ticks/sec)\n",
      "\n",
      "CPLEX> Solution written to file '/var/folders/7x/vvlz820d5l9d2yr0jb1jggmc0000gn/T/4195de11941e43bc967e6abd6d51957a-pulp.sol'.\n",
      "CPLEX> 13278156.0\n"
     ]
    }
   ],
   "source": [
    "warehouse_model.build()\n",
    "warehouse_objective = warehouse_model.solve()\n",
    "print(warehouse_objective)"
   ],
   "metadata": {
    "collapsed": false
   }
  },
  {
   "cell_type": "code",
   "execution_count": 10,
   "outputs": [],
   "source": [
    "# changes values based on operational changes\n",
    "build_cost_lower = build_cost * .75\n",
    "warehouse_capacity_higher = warehouse_capacity * 1.2"
   ],
   "metadata": {
    "collapsed": false
   }
  },
  {
   "metadata": {
    "trusted": false
   },
   "cell_type": "code",
   "source": [
    "#make the price change model\n",
    "price_change_model = ACME(stores=df_stores,\n",
    "                        warehouses=df_warehouses,\n",
    "                        products=df_products,\n",
    "                        demand=product_demand,\n",
    "                        cost=ship_cost,\n",
    "                        build=build_cost_lower,\n",
    "                        capacity=warehouse_capacity_higher,\n",
    "                        solver=pl.CPLEX_CMD(path=path_to_cplex, mip=True))"
   ],
   "execution_count": 11,
   "outputs": []
  },
  {
   "metadata": {
    "trusted": false
   },
   "cell_type": "code",
   "source": [
    "#solve the business plan model and print the objective\n",
    "price_change_model.build()\n",
    "price_objective = price_change_model.solve()\n",
    "print(price_objective)"
   ],
   "execution_count": 12,
   "outputs": [
    {
     "name": "stdout",
     "output_type": "stream",
     "text": [
      "\n",
      "Welcome to IBM(R) ILOG(R) CPLEX(R) Interactive Optimizer 20.1.0.0\n",
      "  with Simplex, Mixed Integer & Barrier Optimizers\n",
      "5725-A06 5725-A29 5724-Y48 5724-Y49 5724-Y54 5724-Y55 5655-Y21\n",
      "Copyright IBM Corp. 1988, 2020.  All Rights Reserved.\n",
      "\n",
      "Type 'help' for a list of available commands.\n",
      "Type 'help' followed by a command name for more\n",
      "information on commands.\n",
      "\n",
      "CPLEX> Problem '/var/folders/7x/vvlz820d5l9d2yr0jb1jggmc0000gn/T/371f274a508d4ffd9a2d374682336919-pulp.lp' read.\n",
      "Read time = 0.00 sec. (0.00 ticks)\n",
      "CPLEX> Version identifier: 20.1.0.0 | 2020-11-10 | 9bedb6d68\n",
      "Tried aggregator 1 time.\n",
      "Reduced MIP has 22 rows, 60 columns, and 120 nonzeros.\n",
      "Reduced MIP has 4 binaries, 0 generals, 0 SOSs, and 0 indicators.\n",
      "Presolve time = 0.00 sec. (0.05 ticks)\n",
      "Found incumbent of value 1.7954040e+07 after 0.00 sec. (0.15 ticks)\n",
      "Probing time = 0.00 sec. (0.00 ticks)\n",
      "Tried aggregator 1 time.\n",
      "Detecting symmetries...\n",
      "Reduced MIP has 22 rows, 60 columns, and 120 nonzeros.\n",
      "Reduced MIP has 4 binaries, 0 generals, 0 SOSs, and 0 indicators.\n",
      "Presolve time = 0.00 sec. (0.06 ticks)\n",
      "Probing time = 0.00 sec. (0.00 ticks)\n",
      "MIP emphasis: balance optimality and feasibility.\n",
      "MIP search method: dynamic search.\n",
      "Parallel mode: deterministic, using up to 12 threads.\n",
      "Root relaxation solution time = 0.00 sec. (0.06 ticks)\n",
      "\n",
      "        Nodes                                         Cuts/\n",
      "   Node  Left     Objective  IInf  Best Integer    Best Bound    ItCnt     Gap\n",
      "\n",
      "*     0+    0                       1.79540e+07        0.0000           100.00%\n",
      "      0     0  9013461.6949     2   1.79540e+07  9013461.6949       29   49.80%\n",
      "*     0+    0                       1.06208e+07  9013461.6949            15.13%\n",
      "*     0+    0                       1.06060e+07  9013461.6949            15.02%\n",
      "      0     0  9222567.4382     4   1.06060e+07      Cuts: 16       53   13.04%\n",
      "      0     0   1.00046e+07     2   1.06060e+07      Cuts: 20       82    5.67%\n",
      "*     0+    0                       1.00767e+07   1.00046e+07             0.72%\n",
      "      0     0   1.00652e+07     2   1.00767e+07       Cuts: 7       93    0.11%\n",
      "      0     0        cutoff         1.00767e+07   1.00767e+07       93    0.00%\n",
      "Elapsed time = 0.04 sec. (1.28 ticks, tree = 0.01 MB, solutions = 4)\n",
      "\n",
      "Implied bound cuts applied:  15\n",
      "Flow cuts applied:  2\n",
      "Mixed integer rounding cuts applied:  3\n",
      "Gomory fractional cuts applied:  1\n",
      "\n",
      "Root node processing (before b&c):\n",
      "  Real time             =    0.04 sec. (1.28 ticks)\n",
      "Parallel b&c, 12 threads:\n",
      "  Real time             =    0.00 sec. (0.00 ticks)\n",
      "  Sync time (average)   =    0.00 sec.\n",
      "  Wait time (average)   =    0.00 sec.\n",
      "                          ------------\n",
      "Total (root+branch&cut) =    0.04 sec. (1.28 ticks)\n",
      "\n",
      "Solution pool: 4 solutions saved.\n",
      "\n",
      "MIP - Integer optimal solution:  Objective =  1.0076748000e+07\n",
      "Solution time =    0.04 sec.  Iterations = 93  Nodes = 0\n",
      "Deterministic time = 1.28 ticks  (34.50 ticks/sec)\n",
      "\n",
      "CPLEX> MILP problem relaxed to LP with fixed integer variables using\n",
      "incumbent solution.\n",
      "CPLEX> Version identifier: 20.1.0.0 | 2020-11-10 | 9bedb6d68\n",
      "Tried aggregator 1 time.\n",
      "LP Presolve eliminated 4 rows and 32 columns.\n",
      "Reduced LP has 18 rows, 28 columns, and 56 nonzeros.\n",
      "Presolve time = 0.00 sec. (0.03 ticks)\n",
      "\n",
      "Iteration log . . .\n",
      "Iteration:     1   Dual objective     =       7468200.000000\n",
      "\n",
      "Dual simplex - Optimal:  Objective =  1.0076748000e+07\n",
      "Solution time =    0.00 sec.  Iterations = 15 (0)\n",
      "Deterministic time = 0.06 ticks  (60.98 ticks/sec)\n",
      "\n",
      "CPLEX> Solution written to file '/var/folders/7x/vvlz820d5l9d2yr0jb1jggmc0000gn/T/371f274a508d4ffd9a2d374682336919-pulp.sol'.\n",
      "CPLEX> 10076748.0\n"
     ]
    }
   ]
  },
  {
   "metadata": {
    "trusted": false
   },
   "cell_type": "code",
   "source": [
    "#output the results from the decision variables\n",
    "baseline_output = []\n",
    "for w, s, p in it.product(df_warehouses, df_stores, df_products):\n",
    "    var_output = {\n",
    "        'Warehouse': w,\n",
    "        'Store': s,\n",
    "        'Product': p,\n",
    "        'Pounds': baseline_model.product_vars[w,s,p].varValue,\n",
    "        'Warehouse Status': baseline_model.warehouse_vars[w].varValue\n",
    "    }\n",
    "    baseline_output.append(var_output)\n",
    "\n",
    "plan_output = []\n",
    "for w, s, p in it.product(df_warehouses, df_stores, df_products):\n",
    "    var_output = {\n",
    "        'Warehouse': w,\n",
    "        'Store': s,\n",
    "        'Product': p,\n",
    "        'Pounds': price_change_model.product_vars[w,s,p].varValue,\n",
    "        'Warehouse Status': price_change_model.warehouse_vars[w].varValue\n",
    "    }\n",
    "    plan_output.append(var_output)\n",
    "\n",
    "warehouse_output = []\n",
    "for w, s, p in it.product(df_warehouses, df_stores, df_products):\n",
    "    var_output = {\n",
    "        'Warehouse': w,\n",
    "        'Store': s,\n",
    "        'Product': p,\n",
    "        'Pounds': warehouse_model.product_vars[w,s,p].varValue,\n",
    "        'Warehouse Status': warehouse_model.warehouse_vars[w].varValue\n",
    "    }\n",
    "    warehouse_output.append(var_output)"
   ],
   "execution_count": 13,
   "outputs": []
  },
  {
   "metadata": {
    "trusted": false
   },
   "cell_type": "code",
   "source": [
    "df_baseline = pd.DataFrame.from_records(baseline_output)\n",
    "df_plan = pd.DataFrame.from_records(plan_output)\n",
    "df_warehouse = pd.DataFrame.from_records(warehouse_output)"
   ],
   "execution_count": 14,
   "outputs": []
  },
  {
   "cell_type": "code",
   "execution_count": 15,
   "outputs": [
    {
     "data": {
      "text/plain": "   Warehouse Store Product   Pounds  Warehouse Status\n0         W1    S1  canned      0.0               0.0\n1         W1    S1    meat      0.0               0.0\n2         W1    S2  canned      0.0               0.0\n3         W1    S2    meat      0.0               0.0\n4         W1    S3  canned      0.0               0.0\n5         W1    S3    meat      0.0               0.0\n6         W1    S4  canned      0.0               0.0\n7         W1    S4    meat      0.0               0.0\n8         W1    S5  canned      0.0               0.0\n9         W1    S5    meat      0.0               0.0\n10        W1    S6  canned      0.0               0.0\n11        W1    S6    meat      0.0               0.0\n12        W1    S7  canned      0.0               0.0\n13        W1    S7    meat      0.0               0.0\n14        W2    S1  canned      0.0               1.0\n15        W2    S1    meat      0.0               1.0\n16        W2    S2  canned  26000.0               1.0\n17        W2    S2    meat  15200.0               1.0\n18        W2    S3  canned   2520.0               1.0\n19        W2    S3    meat      0.0               1.0\n20        W2    S4  canned  24880.0               1.0\n21        W2    S4    meat  14200.0               1.0\n22        W2    S5  canned      0.0               1.0\n23        W2    S5    meat      0.0               1.0\n24        W2    S6  canned  20200.0               1.0\n25        W2    S6    meat  22000.0               1.0\n26        W2    S7  canned  24400.0               1.0\n27        W2    S7    meat   6600.0               1.0\n28        W3    S1  canned      0.0               0.0\n29        W3    S1    meat      0.0               0.0\n30        W3    S2  canned      0.0               0.0\n31        W3    S2    meat      0.0               0.0\n32        W3    S3  canned      0.0               0.0\n33        W3    S3    meat      0.0               0.0\n34        W3    S4  canned      0.0               0.0\n35        W3    S4    meat      0.0               0.0\n36        W3    S5  canned      0.0               0.0\n37        W3    S5    meat      0.0               0.0\n38        W3    S6  canned      0.0               0.0\n39        W3    S6    meat      0.0               0.0\n40        W3    S7  canned      0.0               0.0\n41        W3    S7    meat      0.0               0.0\n42        W4    S1  canned  28000.0               1.0\n43        W4    S1    meat  18000.0               1.0\n44        W4    S2  canned      0.0               1.0\n45        W4    S2    meat      0.0               1.0\n46        W4    S3  canned  20480.0               1.0\n47        W4    S3    meat  16300.0               1.0\n48        W4    S4  canned      0.0               1.0\n49        W4    S4    meat      0.0               1.0\n50        W4    S5  canned  19200.0               1.0\n51        W4    S5    meat  19600.0               1.0\n52        W4    S6  canned      0.0               1.0\n53        W4    S6    meat      0.0               1.0\n54        W4    S7  canned      0.0               1.0\n55        W4    S7    meat  10200.0               1.0",
      "text/html": "<div>\n<style scoped>\n    .dataframe tbody tr th:only-of-type {\n        vertical-align: middle;\n    }\n\n    .dataframe tbody tr th {\n        vertical-align: top;\n    }\n\n    .dataframe thead th {\n        text-align: right;\n    }\n</style>\n<table border=\"1\" class=\"dataframe\">\n  <thead>\n    <tr style=\"text-align: right;\">\n      <th></th>\n      <th>Warehouse</th>\n      <th>Store</th>\n      <th>Product</th>\n      <th>Pounds</th>\n      <th>Warehouse Status</th>\n    </tr>\n  </thead>\n  <tbody>\n    <tr>\n      <th>0</th>\n      <td>W1</td>\n      <td>S1</td>\n      <td>canned</td>\n      <td>0.0</td>\n      <td>0.0</td>\n    </tr>\n    <tr>\n      <th>1</th>\n      <td>W1</td>\n      <td>S1</td>\n      <td>meat</td>\n      <td>0.0</td>\n      <td>0.0</td>\n    </tr>\n    <tr>\n      <th>2</th>\n      <td>W1</td>\n      <td>S2</td>\n      <td>canned</td>\n      <td>0.0</td>\n      <td>0.0</td>\n    </tr>\n    <tr>\n      <th>3</th>\n      <td>W1</td>\n      <td>S2</td>\n      <td>meat</td>\n      <td>0.0</td>\n      <td>0.0</td>\n    </tr>\n    <tr>\n      <th>4</th>\n      <td>W1</td>\n      <td>S3</td>\n      <td>canned</td>\n      <td>0.0</td>\n      <td>0.0</td>\n    </tr>\n    <tr>\n      <th>5</th>\n      <td>W1</td>\n      <td>S3</td>\n      <td>meat</td>\n      <td>0.0</td>\n      <td>0.0</td>\n    </tr>\n    <tr>\n      <th>6</th>\n      <td>W1</td>\n      <td>S4</td>\n      <td>canned</td>\n      <td>0.0</td>\n      <td>0.0</td>\n    </tr>\n    <tr>\n      <th>7</th>\n      <td>W1</td>\n      <td>S4</td>\n      <td>meat</td>\n      <td>0.0</td>\n      <td>0.0</td>\n    </tr>\n    <tr>\n      <th>8</th>\n      <td>W1</td>\n      <td>S5</td>\n      <td>canned</td>\n      <td>0.0</td>\n      <td>0.0</td>\n    </tr>\n    <tr>\n      <th>9</th>\n      <td>W1</td>\n      <td>S5</td>\n      <td>meat</td>\n      <td>0.0</td>\n      <td>0.0</td>\n    </tr>\n    <tr>\n      <th>10</th>\n      <td>W1</td>\n      <td>S6</td>\n      <td>canned</td>\n      <td>0.0</td>\n      <td>0.0</td>\n    </tr>\n    <tr>\n      <th>11</th>\n      <td>W1</td>\n      <td>S6</td>\n      <td>meat</td>\n      <td>0.0</td>\n      <td>0.0</td>\n    </tr>\n    <tr>\n      <th>12</th>\n      <td>W1</td>\n      <td>S7</td>\n      <td>canned</td>\n      <td>0.0</td>\n      <td>0.0</td>\n    </tr>\n    <tr>\n      <th>13</th>\n      <td>W1</td>\n      <td>S7</td>\n      <td>meat</td>\n      <td>0.0</td>\n      <td>0.0</td>\n    </tr>\n    <tr>\n      <th>14</th>\n      <td>W2</td>\n      <td>S1</td>\n      <td>canned</td>\n      <td>0.0</td>\n      <td>1.0</td>\n    </tr>\n    <tr>\n      <th>15</th>\n      <td>W2</td>\n      <td>S1</td>\n      <td>meat</td>\n      <td>0.0</td>\n      <td>1.0</td>\n    </tr>\n    <tr>\n      <th>16</th>\n      <td>W2</td>\n      <td>S2</td>\n      <td>canned</td>\n      <td>26000.0</td>\n      <td>1.0</td>\n    </tr>\n    <tr>\n      <th>17</th>\n      <td>W2</td>\n      <td>S2</td>\n      <td>meat</td>\n      <td>15200.0</td>\n      <td>1.0</td>\n    </tr>\n    <tr>\n      <th>18</th>\n      <td>W2</td>\n      <td>S3</td>\n      <td>canned</td>\n      <td>2520.0</td>\n      <td>1.0</td>\n    </tr>\n    <tr>\n      <th>19</th>\n      <td>W2</td>\n      <td>S3</td>\n      <td>meat</td>\n      <td>0.0</td>\n      <td>1.0</td>\n    </tr>\n    <tr>\n      <th>20</th>\n      <td>W2</td>\n      <td>S4</td>\n      <td>canned</td>\n      <td>24880.0</td>\n      <td>1.0</td>\n    </tr>\n    <tr>\n      <th>21</th>\n      <td>W2</td>\n      <td>S4</td>\n      <td>meat</td>\n      <td>14200.0</td>\n      <td>1.0</td>\n    </tr>\n    <tr>\n      <th>22</th>\n      <td>W2</td>\n      <td>S5</td>\n      <td>canned</td>\n      <td>0.0</td>\n      <td>1.0</td>\n    </tr>\n    <tr>\n      <th>23</th>\n      <td>W2</td>\n      <td>S5</td>\n      <td>meat</td>\n      <td>0.0</td>\n      <td>1.0</td>\n    </tr>\n    <tr>\n      <th>24</th>\n      <td>W2</td>\n      <td>S6</td>\n      <td>canned</td>\n      <td>20200.0</td>\n      <td>1.0</td>\n    </tr>\n    <tr>\n      <th>25</th>\n      <td>W2</td>\n      <td>S6</td>\n      <td>meat</td>\n      <td>22000.0</td>\n      <td>1.0</td>\n    </tr>\n    <tr>\n      <th>26</th>\n      <td>W2</td>\n      <td>S7</td>\n      <td>canned</td>\n      <td>24400.0</td>\n      <td>1.0</td>\n    </tr>\n    <tr>\n      <th>27</th>\n      <td>W2</td>\n      <td>S7</td>\n      <td>meat</td>\n      <td>6600.0</td>\n      <td>1.0</td>\n    </tr>\n    <tr>\n      <th>28</th>\n      <td>W3</td>\n      <td>S1</td>\n      <td>canned</td>\n      <td>0.0</td>\n      <td>0.0</td>\n    </tr>\n    <tr>\n      <th>29</th>\n      <td>W3</td>\n      <td>S1</td>\n      <td>meat</td>\n      <td>0.0</td>\n      <td>0.0</td>\n    </tr>\n    <tr>\n      <th>30</th>\n      <td>W3</td>\n      <td>S2</td>\n      <td>canned</td>\n      <td>0.0</td>\n      <td>0.0</td>\n    </tr>\n    <tr>\n      <th>31</th>\n      <td>W3</td>\n      <td>S2</td>\n      <td>meat</td>\n      <td>0.0</td>\n      <td>0.0</td>\n    </tr>\n    <tr>\n      <th>32</th>\n      <td>W3</td>\n      <td>S3</td>\n      <td>canned</td>\n      <td>0.0</td>\n      <td>0.0</td>\n    </tr>\n    <tr>\n      <th>33</th>\n      <td>W3</td>\n      <td>S3</td>\n      <td>meat</td>\n      <td>0.0</td>\n      <td>0.0</td>\n    </tr>\n    <tr>\n      <th>34</th>\n      <td>W3</td>\n      <td>S4</td>\n      <td>canned</td>\n      <td>0.0</td>\n      <td>0.0</td>\n    </tr>\n    <tr>\n      <th>35</th>\n      <td>W3</td>\n      <td>S4</td>\n      <td>meat</td>\n      <td>0.0</td>\n      <td>0.0</td>\n    </tr>\n    <tr>\n      <th>36</th>\n      <td>W3</td>\n      <td>S5</td>\n      <td>canned</td>\n      <td>0.0</td>\n      <td>0.0</td>\n    </tr>\n    <tr>\n      <th>37</th>\n      <td>W3</td>\n      <td>S5</td>\n      <td>meat</td>\n      <td>0.0</td>\n      <td>0.0</td>\n    </tr>\n    <tr>\n      <th>38</th>\n      <td>W3</td>\n      <td>S6</td>\n      <td>canned</td>\n      <td>0.0</td>\n      <td>0.0</td>\n    </tr>\n    <tr>\n      <th>39</th>\n      <td>W3</td>\n      <td>S6</td>\n      <td>meat</td>\n      <td>0.0</td>\n      <td>0.0</td>\n    </tr>\n    <tr>\n      <th>40</th>\n      <td>W3</td>\n      <td>S7</td>\n      <td>canned</td>\n      <td>0.0</td>\n      <td>0.0</td>\n    </tr>\n    <tr>\n      <th>41</th>\n      <td>W3</td>\n      <td>S7</td>\n      <td>meat</td>\n      <td>0.0</td>\n      <td>0.0</td>\n    </tr>\n    <tr>\n      <th>42</th>\n      <td>W4</td>\n      <td>S1</td>\n      <td>canned</td>\n      <td>28000.0</td>\n      <td>1.0</td>\n    </tr>\n    <tr>\n      <th>43</th>\n      <td>W4</td>\n      <td>S1</td>\n      <td>meat</td>\n      <td>18000.0</td>\n      <td>1.0</td>\n    </tr>\n    <tr>\n      <th>44</th>\n      <td>W4</td>\n      <td>S2</td>\n      <td>canned</td>\n      <td>0.0</td>\n      <td>1.0</td>\n    </tr>\n    <tr>\n      <th>45</th>\n      <td>W4</td>\n      <td>S2</td>\n      <td>meat</td>\n      <td>0.0</td>\n      <td>1.0</td>\n    </tr>\n    <tr>\n      <th>46</th>\n      <td>W4</td>\n      <td>S3</td>\n      <td>canned</td>\n      <td>20480.0</td>\n      <td>1.0</td>\n    </tr>\n    <tr>\n      <th>47</th>\n      <td>W4</td>\n      <td>S3</td>\n      <td>meat</td>\n      <td>16300.0</td>\n      <td>1.0</td>\n    </tr>\n    <tr>\n      <th>48</th>\n      <td>W4</td>\n      <td>S4</td>\n      <td>canned</td>\n      <td>0.0</td>\n      <td>1.0</td>\n    </tr>\n    <tr>\n      <th>49</th>\n      <td>W4</td>\n      <td>S4</td>\n      <td>meat</td>\n      <td>0.0</td>\n      <td>1.0</td>\n    </tr>\n    <tr>\n      <th>50</th>\n      <td>W4</td>\n      <td>S5</td>\n      <td>canned</td>\n      <td>19200.0</td>\n      <td>1.0</td>\n    </tr>\n    <tr>\n      <th>51</th>\n      <td>W4</td>\n      <td>S5</td>\n      <td>meat</td>\n      <td>19600.0</td>\n      <td>1.0</td>\n    </tr>\n    <tr>\n      <th>52</th>\n      <td>W4</td>\n      <td>S6</td>\n      <td>canned</td>\n      <td>0.0</td>\n      <td>1.0</td>\n    </tr>\n    <tr>\n      <th>53</th>\n      <td>W4</td>\n      <td>S6</td>\n      <td>meat</td>\n      <td>0.0</td>\n      <td>1.0</td>\n    </tr>\n    <tr>\n      <th>54</th>\n      <td>W4</td>\n      <td>S7</td>\n      <td>canned</td>\n      <td>0.0</td>\n      <td>1.0</td>\n    </tr>\n    <tr>\n      <th>55</th>\n      <td>W4</td>\n      <td>S7</td>\n      <td>meat</td>\n      <td>10200.0</td>\n      <td>1.0</td>\n    </tr>\n  </tbody>\n</table>\n</div>"
     },
     "execution_count": 15,
     "metadata": {},
     "output_type": "execute_result"
    }
   ],
   "source": [
    "df_warehouse"
   ],
   "metadata": {
    "collapsed": false
   }
  },
  {
   "cell_type": "code",
   "execution_count": 16,
   "outputs": [
    {
     "data": {
      "text/plain": "   Warehouse Store Product   Pounds  Warehouse Status\n0         W1    S1  canned  28000.0               1.0\n1         W1    S1    meat  18000.0               1.0\n2         W1    S2  canned      0.0               1.0\n3         W1    S2    meat      0.0               1.0\n4         W1    S3  canned  23000.0               1.0\n5         W1    S3    meat  16300.0               1.0\n6         W1    S4  canned  24880.0               1.0\n7         W1    S4    meat  14200.0               1.0\n8         W1    S5  canned   4600.0               1.0\n9         W1    S5    meat      0.0               1.0\n10        W1    S6  canned      0.0               1.0\n11        W1    S6    meat      0.0               1.0\n12        W1    S7  canned      0.0               1.0\n13        W1    S7    meat      0.0               1.0\n14        W2    S1  canned      0.0               0.0\n15        W2    S1    meat      0.0               0.0\n16        W2    S2  canned      0.0               0.0\n17        W2    S2    meat      0.0               0.0\n18        W2    S3  canned      0.0               0.0\n19        W2    S3    meat      0.0               0.0\n20        W2    S4  canned      0.0               0.0\n21        W2    S4    meat      0.0               0.0\n22        W2    S5  canned      0.0               0.0\n23        W2    S5    meat      0.0               0.0\n24        W2    S6  canned      0.0               0.0\n25        W2    S6    meat      0.0               0.0\n26        W2    S7  canned      0.0               0.0\n27        W2    S7    meat      0.0               0.0\n28        W3    S1  canned      0.0               1.0\n29        W3    S1    meat      0.0               1.0\n30        W3    S2  canned  26000.0               1.0\n31        W3    S2    meat  15200.0               1.0\n32        W3    S3  canned      0.0               1.0\n33        W3    S3    meat      0.0               1.0\n34        W3    S4  canned      0.0               1.0\n35        W3    S4    meat      0.0               1.0\n36        W3    S5  canned  14600.0               1.0\n37        W3    S5    meat  19600.0               1.0\n38        W3    S6  canned  20200.0               1.0\n39        W3    S6    meat  22000.0               1.0\n40        W3    S7  canned  24400.0               1.0\n41        W3    S7    meat  16800.0               1.0\n42        W4    S1  canned      0.0               0.0\n43        W4    S1    meat      0.0               0.0\n44        W4    S2  canned      0.0               0.0\n45        W4    S2    meat      0.0               0.0\n46        W4    S3  canned      0.0               0.0\n47        W4    S3    meat      0.0               0.0\n48        W4    S4  canned      0.0               0.0\n49        W4    S4    meat      0.0               0.0\n50        W4    S5  canned      0.0               0.0\n51        W4    S5    meat      0.0               0.0\n52        W4    S6  canned      0.0               0.0\n53        W4    S6    meat      0.0               0.0\n54        W4    S7  canned      0.0               0.0\n55        W4    S7    meat      0.0               0.0",
      "text/html": "<div>\n<style scoped>\n    .dataframe tbody tr th:only-of-type {\n        vertical-align: middle;\n    }\n\n    .dataframe tbody tr th {\n        vertical-align: top;\n    }\n\n    .dataframe thead th {\n        text-align: right;\n    }\n</style>\n<table border=\"1\" class=\"dataframe\">\n  <thead>\n    <tr style=\"text-align: right;\">\n      <th></th>\n      <th>Warehouse</th>\n      <th>Store</th>\n      <th>Product</th>\n      <th>Pounds</th>\n      <th>Warehouse Status</th>\n    </tr>\n  </thead>\n  <tbody>\n    <tr>\n      <th>0</th>\n      <td>W1</td>\n      <td>S1</td>\n      <td>canned</td>\n      <td>28000.0</td>\n      <td>1.0</td>\n    </tr>\n    <tr>\n      <th>1</th>\n      <td>W1</td>\n      <td>S1</td>\n      <td>meat</td>\n      <td>18000.0</td>\n      <td>1.0</td>\n    </tr>\n    <tr>\n      <th>2</th>\n      <td>W1</td>\n      <td>S2</td>\n      <td>canned</td>\n      <td>0.0</td>\n      <td>1.0</td>\n    </tr>\n    <tr>\n      <th>3</th>\n      <td>W1</td>\n      <td>S2</td>\n      <td>meat</td>\n      <td>0.0</td>\n      <td>1.0</td>\n    </tr>\n    <tr>\n      <th>4</th>\n      <td>W1</td>\n      <td>S3</td>\n      <td>canned</td>\n      <td>23000.0</td>\n      <td>1.0</td>\n    </tr>\n    <tr>\n      <th>5</th>\n      <td>W1</td>\n      <td>S3</td>\n      <td>meat</td>\n      <td>16300.0</td>\n      <td>1.0</td>\n    </tr>\n    <tr>\n      <th>6</th>\n      <td>W1</td>\n      <td>S4</td>\n      <td>canned</td>\n      <td>24880.0</td>\n      <td>1.0</td>\n    </tr>\n    <tr>\n      <th>7</th>\n      <td>W1</td>\n      <td>S4</td>\n      <td>meat</td>\n      <td>14200.0</td>\n      <td>1.0</td>\n    </tr>\n    <tr>\n      <th>8</th>\n      <td>W1</td>\n      <td>S5</td>\n      <td>canned</td>\n      <td>4600.0</td>\n      <td>1.0</td>\n    </tr>\n    <tr>\n      <th>9</th>\n      <td>W1</td>\n      <td>S5</td>\n      <td>meat</td>\n      <td>0.0</td>\n      <td>1.0</td>\n    </tr>\n    <tr>\n      <th>10</th>\n      <td>W1</td>\n      <td>S6</td>\n      <td>canned</td>\n      <td>0.0</td>\n      <td>1.0</td>\n    </tr>\n    <tr>\n      <th>11</th>\n      <td>W1</td>\n      <td>S6</td>\n      <td>meat</td>\n      <td>0.0</td>\n      <td>1.0</td>\n    </tr>\n    <tr>\n      <th>12</th>\n      <td>W1</td>\n      <td>S7</td>\n      <td>canned</td>\n      <td>0.0</td>\n      <td>1.0</td>\n    </tr>\n    <tr>\n      <th>13</th>\n      <td>W1</td>\n      <td>S7</td>\n      <td>meat</td>\n      <td>0.0</td>\n      <td>1.0</td>\n    </tr>\n    <tr>\n      <th>14</th>\n      <td>W2</td>\n      <td>S1</td>\n      <td>canned</td>\n      <td>0.0</td>\n      <td>0.0</td>\n    </tr>\n    <tr>\n      <th>15</th>\n      <td>W2</td>\n      <td>S1</td>\n      <td>meat</td>\n      <td>0.0</td>\n      <td>0.0</td>\n    </tr>\n    <tr>\n      <th>16</th>\n      <td>W2</td>\n      <td>S2</td>\n      <td>canned</td>\n      <td>0.0</td>\n      <td>0.0</td>\n    </tr>\n    <tr>\n      <th>17</th>\n      <td>W2</td>\n      <td>S2</td>\n      <td>meat</td>\n      <td>0.0</td>\n      <td>0.0</td>\n    </tr>\n    <tr>\n      <th>18</th>\n      <td>W2</td>\n      <td>S3</td>\n      <td>canned</td>\n      <td>0.0</td>\n      <td>0.0</td>\n    </tr>\n    <tr>\n      <th>19</th>\n      <td>W2</td>\n      <td>S3</td>\n      <td>meat</td>\n      <td>0.0</td>\n      <td>0.0</td>\n    </tr>\n    <tr>\n      <th>20</th>\n      <td>W2</td>\n      <td>S4</td>\n      <td>canned</td>\n      <td>0.0</td>\n      <td>0.0</td>\n    </tr>\n    <tr>\n      <th>21</th>\n      <td>W2</td>\n      <td>S4</td>\n      <td>meat</td>\n      <td>0.0</td>\n      <td>0.0</td>\n    </tr>\n    <tr>\n      <th>22</th>\n      <td>W2</td>\n      <td>S5</td>\n      <td>canned</td>\n      <td>0.0</td>\n      <td>0.0</td>\n    </tr>\n    <tr>\n      <th>23</th>\n      <td>W2</td>\n      <td>S5</td>\n      <td>meat</td>\n      <td>0.0</td>\n      <td>0.0</td>\n    </tr>\n    <tr>\n      <th>24</th>\n      <td>W2</td>\n      <td>S6</td>\n      <td>canned</td>\n      <td>0.0</td>\n      <td>0.0</td>\n    </tr>\n    <tr>\n      <th>25</th>\n      <td>W2</td>\n      <td>S6</td>\n      <td>meat</td>\n      <td>0.0</td>\n      <td>0.0</td>\n    </tr>\n    <tr>\n      <th>26</th>\n      <td>W2</td>\n      <td>S7</td>\n      <td>canned</td>\n      <td>0.0</td>\n      <td>0.0</td>\n    </tr>\n    <tr>\n      <th>27</th>\n      <td>W2</td>\n      <td>S7</td>\n      <td>meat</td>\n      <td>0.0</td>\n      <td>0.0</td>\n    </tr>\n    <tr>\n      <th>28</th>\n      <td>W3</td>\n      <td>S1</td>\n      <td>canned</td>\n      <td>0.0</td>\n      <td>1.0</td>\n    </tr>\n    <tr>\n      <th>29</th>\n      <td>W3</td>\n      <td>S1</td>\n      <td>meat</td>\n      <td>0.0</td>\n      <td>1.0</td>\n    </tr>\n    <tr>\n      <th>30</th>\n      <td>W3</td>\n      <td>S2</td>\n      <td>canned</td>\n      <td>26000.0</td>\n      <td>1.0</td>\n    </tr>\n    <tr>\n      <th>31</th>\n      <td>W3</td>\n      <td>S2</td>\n      <td>meat</td>\n      <td>15200.0</td>\n      <td>1.0</td>\n    </tr>\n    <tr>\n      <th>32</th>\n      <td>W3</td>\n      <td>S3</td>\n      <td>canned</td>\n      <td>0.0</td>\n      <td>1.0</td>\n    </tr>\n    <tr>\n      <th>33</th>\n      <td>W3</td>\n      <td>S3</td>\n      <td>meat</td>\n      <td>0.0</td>\n      <td>1.0</td>\n    </tr>\n    <tr>\n      <th>34</th>\n      <td>W3</td>\n      <td>S4</td>\n      <td>canned</td>\n      <td>0.0</td>\n      <td>1.0</td>\n    </tr>\n    <tr>\n      <th>35</th>\n      <td>W3</td>\n      <td>S4</td>\n      <td>meat</td>\n      <td>0.0</td>\n      <td>1.0</td>\n    </tr>\n    <tr>\n      <th>36</th>\n      <td>W3</td>\n      <td>S5</td>\n      <td>canned</td>\n      <td>14600.0</td>\n      <td>1.0</td>\n    </tr>\n    <tr>\n      <th>37</th>\n      <td>W3</td>\n      <td>S5</td>\n      <td>meat</td>\n      <td>19600.0</td>\n      <td>1.0</td>\n    </tr>\n    <tr>\n      <th>38</th>\n      <td>W3</td>\n      <td>S6</td>\n      <td>canned</td>\n      <td>20200.0</td>\n      <td>1.0</td>\n    </tr>\n    <tr>\n      <th>39</th>\n      <td>W3</td>\n      <td>S6</td>\n      <td>meat</td>\n      <td>22000.0</td>\n      <td>1.0</td>\n    </tr>\n    <tr>\n      <th>40</th>\n      <td>W3</td>\n      <td>S7</td>\n      <td>canned</td>\n      <td>24400.0</td>\n      <td>1.0</td>\n    </tr>\n    <tr>\n      <th>41</th>\n      <td>W3</td>\n      <td>S7</td>\n      <td>meat</td>\n      <td>16800.0</td>\n      <td>1.0</td>\n    </tr>\n    <tr>\n      <th>42</th>\n      <td>W4</td>\n      <td>S1</td>\n      <td>canned</td>\n      <td>0.0</td>\n      <td>0.0</td>\n    </tr>\n    <tr>\n      <th>43</th>\n      <td>W4</td>\n      <td>S1</td>\n      <td>meat</td>\n      <td>0.0</td>\n      <td>0.0</td>\n    </tr>\n    <tr>\n      <th>44</th>\n      <td>W4</td>\n      <td>S2</td>\n      <td>canned</td>\n      <td>0.0</td>\n      <td>0.0</td>\n    </tr>\n    <tr>\n      <th>45</th>\n      <td>W4</td>\n      <td>S2</td>\n      <td>meat</td>\n      <td>0.0</td>\n      <td>0.0</td>\n    </tr>\n    <tr>\n      <th>46</th>\n      <td>W4</td>\n      <td>S3</td>\n      <td>canned</td>\n      <td>0.0</td>\n      <td>0.0</td>\n    </tr>\n    <tr>\n      <th>47</th>\n      <td>W4</td>\n      <td>S3</td>\n      <td>meat</td>\n      <td>0.0</td>\n      <td>0.0</td>\n    </tr>\n    <tr>\n      <th>48</th>\n      <td>W4</td>\n      <td>S4</td>\n      <td>canned</td>\n      <td>0.0</td>\n      <td>0.0</td>\n    </tr>\n    <tr>\n      <th>49</th>\n      <td>W4</td>\n      <td>S4</td>\n      <td>meat</td>\n      <td>0.0</td>\n      <td>0.0</td>\n    </tr>\n    <tr>\n      <th>50</th>\n      <td>W4</td>\n      <td>S5</td>\n      <td>canned</td>\n      <td>0.0</td>\n      <td>0.0</td>\n    </tr>\n    <tr>\n      <th>51</th>\n      <td>W4</td>\n      <td>S5</td>\n      <td>meat</td>\n      <td>0.0</td>\n      <td>0.0</td>\n    </tr>\n    <tr>\n      <th>52</th>\n      <td>W4</td>\n      <td>S6</td>\n      <td>canned</td>\n      <td>0.0</td>\n      <td>0.0</td>\n    </tr>\n    <tr>\n      <th>53</th>\n      <td>W4</td>\n      <td>S6</td>\n      <td>meat</td>\n      <td>0.0</td>\n      <td>0.0</td>\n    </tr>\n    <tr>\n      <th>54</th>\n      <td>W4</td>\n      <td>S7</td>\n      <td>canned</td>\n      <td>0.0</td>\n      <td>0.0</td>\n    </tr>\n    <tr>\n      <th>55</th>\n      <td>W4</td>\n      <td>S7</td>\n      <td>meat</td>\n      <td>0.0</td>\n      <td>0.0</td>\n    </tr>\n  </tbody>\n</table>\n</div>"
     },
     "execution_count": 16,
     "metadata": {},
     "output_type": "execute_result"
    }
   ],
   "source": [
    "df_plan"
   ],
   "metadata": {
    "collapsed": false
   }
  },
  {
   "cell_type": "code",
   "execution_count": 17,
   "outputs": [
    {
     "data": {
      "text/plain": "   Warehouse Store Product   Pounds  Warehouse Status\n0         W1    S1  canned  24000.0               1.0\n1         W1    S1    meat  12600.0               1.0\n2         W1    S2  canned      0.0               1.0\n3         W1    S2    meat      0.0               1.0\n4         W1    S3  canned   6920.0               1.0\n5         W1    S3    meat  16300.0               1.0\n6         W1    S4  canned  24880.0               1.0\n7         W1    S4    meat  14200.0               1.0\n8         W1    S5  canned      0.0               1.0\n9         W1    S5    meat      0.0               1.0\n10        W1    S6  canned  20200.0               1.0\n11        W1    S6    meat  22000.0               1.0\n12        W1    S7  canned      0.0               1.0\n13        W1    S7    meat      0.0               1.0\n14        W2    S1  canned      0.0               1.0\n15        W2    S1    meat      0.0               1.0\n16        W2    S2  canned  26000.0               1.0\n17        W2    S2    meat  15200.0               1.0\n18        W2    S3  canned  16080.0               1.0\n19        W2    S3    meat      0.0               1.0\n20        W2    S4  canned      0.0               1.0\n21        W2    S4    meat      0.0               1.0\n22        W2    S5  canned  19200.0               1.0\n23        W2    S5    meat  19600.0               1.0\n24        W2    S6  canned      0.0               1.0\n25        W2    S6    meat      0.0               1.0\n26        W2    S7  canned  24400.0               1.0\n27        W2    S7    meat  16800.0               1.0\n28        W3    S1  canned      0.0               0.0\n29        W3    S1    meat      0.0               0.0\n30        W3    S2  canned      0.0               0.0\n31        W3    S2    meat      0.0               0.0\n32        W3    S3  canned      0.0               0.0\n33        W3    S3    meat      0.0               0.0\n34        W3    S4  canned      0.0               0.0\n35        W3    S4    meat      0.0               0.0\n36        W3    S5  canned      0.0               0.0\n37        W3    S5    meat      0.0               0.0\n38        W3    S6  canned      0.0               0.0\n39        W3    S6    meat      0.0               0.0\n40        W3    S7  canned      0.0               0.0\n41        W3    S7    meat      0.0               0.0\n42        W4    S1  canned      0.0               0.0\n43        W4    S1    meat      0.0               0.0\n44        W4    S2  canned      0.0               0.0\n45        W4    S2    meat      0.0               0.0\n46        W4    S3  canned      0.0               0.0\n47        W4    S3    meat      0.0               0.0\n48        W4    S4  canned      0.0               0.0\n49        W4    S4    meat      0.0               0.0\n50        W4    S5  canned      0.0               0.0\n51        W4    S5    meat      0.0               0.0\n52        W4    S6  canned      0.0               0.0\n53        W4    S6    meat      0.0               0.0\n54        W4    S7  canned      0.0               0.0\n55        W4    S7    meat      0.0               0.0",
      "text/html": "<div>\n<style scoped>\n    .dataframe tbody tr th:only-of-type {\n        vertical-align: middle;\n    }\n\n    .dataframe tbody tr th {\n        vertical-align: top;\n    }\n\n    .dataframe thead th {\n        text-align: right;\n    }\n</style>\n<table border=\"1\" class=\"dataframe\">\n  <thead>\n    <tr style=\"text-align: right;\">\n      <th></th>\n      <th>Warehouse</th>\n      <th>Store</th>\n      <th>Product</th>\n      <th>Pounds</th>\n      <th>Warehouse Status</th>\n    </tr>\n  </thead>\n  <tbody>\n    <tr>\n      <th>0</th>\n      <td>W1</td>\n      <td>S1</td>\n      <td>canned</td>\n      <td>24000.0</td>\n      <td>1.0</td>\n    </tr>\n    <tr>\n      <th>1</th>\n      <td>W1</td>\n      <td>S1</td>\n      <td>meat</td>\n      <td>12600.0</td>\n      <td>1.0</td>\n    </tr>\n    <tr>\n      <th>2</th>\n      <td>W1</td>\n      <td>S2</td>\n      <td>canned</td>\n      <td>0.0</td>\n      <td>1.0</td>\n    </tr>\n    <tr>\n      <th>3</th>\n      <td>W1</td>\n      <td>S2</td>\n      <td>meat</td>\n      <td>0.0</td>\n      <td>1.0</td>\n    </tr>\n    <tr>\n      <th>4</th>\n      <td>W1</td>\n      <td>S3</td>\n      <td>canned</td>\n      <td>6920.0</td>\n      <td>1.0</td>\n    </tr>\n    <tr>\n      <th>5</th>\n      <td>W1</td>\n      <td>S3</td>\n      <td>meat</td>\n      <td>16300.0</td>\n      <td>1.0</td>\n    </tr>\n    <tr>\n      <th>6</th>\n      <td>W1</td>\n      <td>S4</td>\n      <td>canned</td>\n      <td>24880.0</td>\n      <td>1.0</td>\n    </tr>\n    <tr>\n      <th>7</th>\n      <td>W1</td>\n      <td>S4</td>\n      <td>meat</td>\n      <td>14200.0</td>\n      <td>1.0</td>\n    </tr>\n    <tr>\n      <th>8</th>\n      <td>W1</td>\n      <td>S5</td>\n      <td>canned</td>\n      <td>0.0</td>\n      <td>1.0</td>\n    </tr>\n    <tr>\n      <th>9</th>\n      <td>W1</td>\n      <td>S5</td>\n      <td>meat</td>\n      <td>0.0</td>\n      <td>1.0</td>\n    </tr>\n    <tr>\n      <th>10</th>\n      <td>W1</td>\n      <td>S6</td>\n      <td>canned</td>\n      <td>20200.0</td>\n      <td>1.0</td>\n    </tr>\n    <tr>\n      <th>11</th>\n      <td>W1</td>\n      <td>S6</td>\n      <td>meat</td>\n      <td>22000.0</td>\n      <td>1.0</td>\n    </tr>\n    <tr>\n      <th>12</th>\n      <td>W1</td>\n      <td>S7</td>\n      <td>canned</td>\n      <td>0.0</td>\n      <td>1.0</td>\n    </tr>\n    <tr>\n      <th>13</th>\n      <td>W1</td>\n      <td>S7</td>\n      <td>meat</td>\n      <td>0.0</td>\n      <td>1.0</td>\n    </tr>\n    <tr>\n      <th>14</th>\n      <td>W2</td>\n      <td>S1</td>\n      <td>canned</td>\n      <td>0.0</td>\n      <td>1.0</td>\n    </tr>\n    <tr>\n      <th>15</th>\n      <td>W2</td>\n      <td>S1</td>\n      <td>meat</td>\n      <td>0.0</td>\n      <td>1.0</td>\n    </tr>\n    <tr>\n      <th>16</th>\n      <td>W2</td>\n      <td>S2</td>\n      <td>canned</td>\n      <td>26000.0</td>\n      <td>1.0</td>\n    </tr>\n    <tr>\n      <th>17</th>\n      <td>W2</td>\n      <td>S2</td>\n      <td>meat</td>\n      <td>15200.0</td>\n      <td>1.0</td>\n    </tr>\n    <tr>\n      <th>18</th>\n      <td>W2</td>\n      <td>S3</td>\n      <td>canned</td>\n      <td>16080.0</td>\n      <td>1.0</td>\n    </tr>\n    <tr>\n      <th>19</th>\n      <td>W2</td>\n      <td>S3</td>\n      <td>meat</td>\n      <td>0.0</td>\n      <td>1.0</td>\n    </tr>\n    <tr>\n      <th>20</th>\n      <td>W2</td>\n      <td>S4</td>\n      <td>canned</td>\n      <td>0.0</td>\n      <td>1.0</td>\n    </tr>\n    <tr>\n      <th>21</th>\n      <td>W2</td>\n      <td>S4</td>\n      <td>meat</td>\n      <td>0.0</td>\n      <td>1.0</td>\n    </tr>\n    <tr>\n      <th>22</th>\n      <td>W2</td>\n      <td>S5</td>\n      <td>canned</td>\n      <td>19200.0</td>\n      <td>1.0</td>\n    </tr>\n    <tr>\n      <th>23</th>\n      <td>W2</td>\n      <td>S5</td>\n      <td>meat</td>\n      <td>19600.0</td>\n      <td>1.0</td>\n    </tr>\n    <tr>\n      <th>24</th>\n      <td>W2</td>\n      <td>S6</td>\n      <td>canned</td>\n      <td>0.0</td>\n      <td>1.0</td>\n    </tr>\n    <tr>\n      <th>25</th>\n      <td>W2</td>\n      <td>S6</td>\n      <td>meat</td>\n      <td>0.0</td>\n      <td>1.0</td>\n    </tr>\n    <tr>\n      <th>26</th>\n      <td>W2</td>\n      <td>S7</td>\n      <td>canned</td>\n      <td>24400.0</td>\n      <td>1.0</td>\n    </tr>\n    <tr>\n      <th>27</th>\n      <td>W2</td>\n      <td>S7</td>\n      <td>meat</td>\n      <td>16800.0</td>\n      <td>1.0</td>\n    </tr>\n    <tr>\n      <th>28</th>\n      <td>W3</td>\n      <td>S1</td>\n      <td>canned</td>\n      <td>0.0</td>\n      <td>0.0</td>\n    </tr>\n    <tr>\n      <th>29</th>\n      <td>W3</td>\n      <td>S1</td>\n      <td>meat</td>\n      <td>0.0</td>\n      <td>0.0</td>\n    </tr>\n    <tr>\n      <th>30</th>\n      <td>W3</td>\n      <td>S2</td>\n      <td>canned</td>\n      <td>0.0</td>\n      <td>0.0</td>\n    </tr>\n    <tr>\n      <th>31</th>\n      <td>W3</td>\n      <td>S2</td>\n      <td>meat</td>\n      <td>0.0</td>\n      <td>0.0</td>\n    </tr>\n    <tr>\n      <th>32</th>\n      <td>W3</td>\n      <td>S3</td>\n      <td>canned</td>\n      <td>0.0</td>\n      <td>0.0</td>\n    </tr>\n    <tr>\n      <th>33</th>\n      <td>W3</td>\n      <td>S3</td>\n      <td>meat</td>\n      <td>0.0</td>\n      <td>0.0</td>\n    </tr>\n    <tr>\n      <th>34</th>\n      <td>W3</td>\n      <td>S4</td>\n      <td>canned</td>\n      <td>0.0</td>\n      <td>0.0</td>\n    </tr>\n    <tr>\n      <th>35</th>\n      <td>W3</td>\n      <td>S4</td>\n      <td>meat</td>\n      <td>0.0</td>\n      <td>0.0</td>\n    </tr>\n    <tr>\n      <th>36</th>\n      <td>W3</td>\n      <td>S5</td>\n      <td>canned</td>\n      <td>0.0</td>\n      <td>0.0</td>\n    </tr>\n    <tr>\n      <th>37</th>\n      <td>W3</td>\n      <td>S5</td>\n      <td>meat</td>\n      <td>0.0</td>\n      <td>0.0</td>\n    </tr>\n    <tr>\n      <th>38</th>\n      <td>W3</td>\n      <td>S6</td>\n      <td>canned</td>\n      <td>0.0</td>\n      <td>0.0</td>\n    </tr>\n    <tr>\n      <th>39</th>\n      <td>W3</td>\n      <td>S6</td>\n      <td>meat</td>\n      <td>0.0</td>\n      <td>0.0</td>\n    </tr>\n    <tr>\n      <th>40</th>\n      <td>W3</td>\n      <td>S7</td>\n      <td>canned</td>\n      <td>0.0</td>\n      <td>0.0</td>\n    </tr>\n    <tr>\n      <th>41</th>\n      <td>W3</td>\n      <td>S7</td>\n      <td>meat</td>\n      <td>0.0</td>\n      <td>0.0</td>\n    </tr>\n    <tr>\n      <th>42</th>\n      <td>W4</td>\n      <td>S1</td>\n      <td>canned</td>\n      <td>0.0</td>\n      <td>0.0</td>\n    </tr>\n    <tr>\n      <th>43</th>\n      <td>W4</td>\n      <td>S1</td>\n      <td>meat</td>\n      <td>0.0</td>\n      <td>0.0</td>\n    </tr>\n    <tr>\n      <th>44</th>\n      <td>W4</td>\n      <td>S2</td>\n      <td>canned</td>\n      <td>0.0</td>\n      <td>0.0</td>\n    </tr>\n    <tr>\n      <th>45</th>\n      <td>W4</td>\n      <td>S2</td>\n      <td>meat</td>\n      <td>0.0</td>\n      <td>0.0</td>\n    </tr>\n    <tr>\n      <th>46</th>\n      <td>W4</td>\n      <td>S3</td>\n      <td>canned</td>\n      <td>0.0</td>\n      <td>0.0</td>\n    </tr>\n    <tr>\n      <th>47</th>\n      <td>W4</td>\n      <td>S3</td>\n      <td>meat</td>\n      <td>0.0</td>\n      <td>0.0</td>\n    </tr>\n    <tr>\n      <th>48</th>\n      <td>W4</td>\n      <td>S4</td>\n      <td>canned</td>\n      <td>0.0</td>\n      <td>0.0</td>\n    </tr>\n    <tr>\n      <th>49</th>\n      <td>W4</td>\n      <td>S4</td>\n      <td>meat</td>\n      <td>0.0</td>\n      <td>0.0</td>\n    </tr>\n    <tr>\n      <th>50</th>\n      <td>W4</td>\n      <td>S5</td>\n      <td>canned</td>\n      <td>0.0</td>\n      <td>0.0</td>\n    </tr>\n    <tr>\n      <th>51</th>\n      <td>W4</td>\n      <td>S5</td>\n      <td>meat</td>\n      <td>0.0</td>\n      <td>0.0</td>\n    </tr>\n    <tr>\n      <th>52</th>\n      <td>W4</td>\n      <td>S6</td>\n      <td>canned</td>\n      <td>0.0</td>\n      <td>0.0</td>\n    </tr>\n    <tr>\n      <th>53</th>\n      <td>W4</td>\n      <td>S6</td>\n      <td>meat</td>\n      <td>0.0</td>\n      <td>0.0</td>\n    </tr>\n    <tr>\n      <th>54</th>\n      <td>W4</td>\n      <td>S7</td>\n      <td>canned</td>\n      <td>0.0</td>\n      <td>0.0</td>\n    </tr>\n    <tr>\n      <th>55</th>\n      <td>W4</td>\n      <td>S7</td>\n      <td>meat</td>\n      <td>0.0</td>\n      <td>0.0</td>\n    </tr>\n  </tbody>\n</table>\n</div>"
     },
     "execution_count": 17,
     "metadata": {},
     "output_type": "execute_result"
    }
   ],
   "source": [
    "df_baseline"
   ],
   "metadata": {
    "collapsed": false
   }
  },
  {
   "metadata": {
    "trusted": false
   },
   "cell_type": "code",
   "source": [
    "# write the results of the model to excel for the answer\n",
    "with pd.ExcelWriter('/Users/brianblood/Downloads/IMSE 633 Warehouse Output VSRN 2 .xlsx') as writer:\n",
    "    #df_baseline.to_excel(writer, sheet_name='Baseline')\n",
    "    #df_plan.to_excel(writer, sheet_name='Plan')\n",
    "    df_warehouse.to_excel(writer, sheet_name='Warehouse')"
   ],
   "execution_count": 18,
   "outputs": []
  }
 ],
 "metadata": {
  "kernelspec": {
   "name": "python3",
   "display_name": "Python 3",
   "language": "python"
  },
  "language_info": {
   "name": "python",
   "version": "3.10.4",
   "mimetype": "text/x-python",
   "codemirror_mode": {
    "name": "ipython",
    "version": 3
   },
   "pygments_lexer": "ipython3",
   "nbconvert_exporter": "python",
   "file_extension": ".py"
  }
 },
 "nbformat": 4,
 "nbformat_minor": 1
}
